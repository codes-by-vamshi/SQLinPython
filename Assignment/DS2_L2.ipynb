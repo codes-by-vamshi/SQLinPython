{
  "nbformat": 4,
  "nbformat_minor": 0,
  "metadata": {
    "colab": {
      "provenance": []
    },
    "kernelspec": {
      "name": "python3",
      "display_name": "Python 3"
    },
    "language_info": {
      "name": "python"
    }
  },
  "cells": [
    {
      "cell_type": "code",
      "execution_count": 1,
      "metadata": {
        "id": "gUlXMYmPa4pP"
      },
      "outputs": [],
      "source": [
        "import sqlite3\n",
        "connection = sqlite3.connect('family.db')\n",
        "cursor = connection.cursor()"
      ]
    },
    {
      "cell_type": "markdown",
      "source": [
        "## First create a table called parents. It has two columns: 'parent' and 'child'. The first column indicates the parent of the child in the second column. We will use a new form of CREATE TABLE expression to produce this table."
      ],
      "metadata": {
        "id": "q36he122a7Qg"
      }
    },
    {
      "cell_type": "code",
      "source": [
        "cmd = \"\"\"CREATE TABLE parents (\n",
        "parent VARCHAR(20),\n",
        "child VARCHAR(20));\n",
        "\"\"\"\n",
        "cursor.execute(cmd)"
      ],
      "metadata": {
        "colab": {
          "base_uri": "https://localhost:8080/"
        },
        "id": "SeqAmhJebZT_",
        "outputId": "7348a018-8583-43e4-ea23-a9f04e39e19c"
      },
      "execution_count": 2,
      "outputs": [
        {
          "output_type": "execute_result",
          "data": {
            "text/plain": [
              "<sqlite3.Cursor at 0x7e2a6049fa40>"
            ]
          },
          "metadata": {},
          "execution_count": 2
        }
      ]
    },
    {
      "cell_type": "code",
      "source": [
        "cmd = \"\"\"INSERT INTO parents (parent, child)\n",
        "VALUES (\"abraham\", \"barack\") UNION\n",
        "VALUES (\"abraham\", \"clinton\") UNION\n",
        "VALUES (\"delano\", \"herbert\") UNION\n",
        "VALUES (\"fillmore\", \"abraham\") UNION\n",
        "VALUES (\"fillmore\", \"delano\") UNION\n",
        "VALUES (\"fillmore\", \"grover\") UNION\n",
        "VALUES (\"eisenhower\", \"fillmore\");\"\"\"\n",
        "cursor.execute(cmd)"
      ],
      "metadata": {
        "colab": {
          "base_uri": "https://localhost:8080/"
        },
        "id": "H-Kzj_LQbpJj",
        "outputId": "fa2cd6c0-6aef-486a-d6c2-708c8e86230a"
      },
      "execution_count": 3,
      "outputs": [
        {
          "output_type": "execute_result",
          "data": {
            "text/plain": [
              "<sqlite3.Cursor at 0x7e2a6049fa40>"
            ]
          },
          "metadata": {},
          "execution_count": 3
        }
      ]
    },
    {
      "cell_type": "markdown",
      "source": [
        "### **Q1 Simple SELECTS (on the parents table)**"
      ],
      "metadata": {
        "id": "yGiQ52jtb6iU"
      }
    },
    {
      "cell_type": "markdown",
      "source": [
        "#### 1. SELECT all records in the table"
      ],
      "metadata": {
        "id": "mqLWo69Kb21x"
      }
    },
    {
      "cell_type": "code",
      "source": [
        "cmd = \"\"\"SELECT * FROM parents;\"\"\"\n",
        "cursor.execute(cmd)\n",
        "cursor.fetchall()"
      ],
      "metadata": {
        "colab": {
          "base_uri": "https://localhost:8080/"
        },
        "id": "6pnFHudzb0mH",
        "outputId": "6658d047-aac8-4686-9321-a5db4abf36bf"
      },
      "execution_count": 4,
      "outputs": [
        {
          "output_type": "execute_result",
          "data": {
            "text/plain": [
              "[('abraham', 'barack'),\n",
              " ('abraham', 'clinton'),\n",
              " ('delano', 'herbert'),\n",
              " ('eisenhower', 'fillmore'),\n",
              " ('fillmore', 'abraham'),\n",
              " ('fillmore', 'delano'),\n",
              " ('fillmore', 'grover')]"
            ]
          },
          "metadata": {},
          "execution_count": 4
        }
      ]
    },
    {
      "cell_type": "markdown",
      "source": [
        "#### 2. SELECT child and parent, where abraham is the parent"
      ],
      "metadata": {
        "id": "Wch-tjOHcXZc"
      }
    },
    {
      "cell_type": "code",
      "source": [
        "cmd = \"\"\"SELECT child,parent FROM parents\n",
        "WHERE parent='abraham';\"\"\"\n",
        "cursor.execute(cmd)\n",
        "cursor.fetchall()"
      ],
      "metadata": {
        "colab": {
          "base_uri": "https://localhost:8080/"
        },
        "id": "Qwae-IbQcR5_",
        "outputId": "10f71f45-a6de-410a-d79f-3fb10d286450"
      },
      "execution_count": 5,
      "outputs": [
        {
          "output_type": "execute_result",
          "data": {
            "text/plain": [
              "[('barack', 'abraham'), ('clinton', 'abraham')]"
            ]
          },
          "metadata": {},
          "execution_count": 5
        }
      ]
    },
    {
      "cell_type": "markdown",
      "source": [
        "#### 3. SELECT all children that have an 'e' in their name  (hint: use LIKE and '%e%')."
      ],
      "metadata": {
        "id": "WwPrSxiac-t7"
      }
    },
    {
      "cell_type": "code",
      "source": [
        "cmd = \"\"\"SELECT child FROM parents\n",
        "WHERE child LIKE '%e%'\"\"\"\n",
        "cursor.execute(cmd)\n",
        "cursor.fetchall()"
      ],
      "metadata": {
        "colab": {
          "base_uri": "https://localhost:8080/"
        },
        "id": "Scq7MQqqc5IO",
        "outputId": "37ccc959-c82f-4871-9361-56ce21990016"
      },
      "execution_count": 6,
      "outputs": [
        {
          "output_type": "execute_result",
          "data": {
            "text/plain": [
              "[('herbert',), ('fillmore',), ('delano',), ('grover',)]"
            ]
          },
          "metadata": {},
          "execution_count": 6
        }
      ]
    },
    {
      "cell_type": "markdown",
      "source": [
        "#### 4. SELECT all unique parents (use SELECT DISTINCT) and order them by name, descending order (i.e. fillmore first)"
      ],
      "metadata": {
        "id": "uUUjLE6pdODl"
      }
    },
    {
      "cell_type": "code",
      "source": [
        "cmd = \"\"\"SELECT DISTINCT parent\n",
        "FROM parents\n",
        "ORDER BY parent DESC\"\"\"\n",
        "cursor.execute(cmd)\n",
        "cursor.fetchall()"
      ],
      "metadata": {
        "colab": {
          "base_uri": "https://localhost:8080/"
        },
        "id": "PTJ6UdWgdLOm",
        "outputId": "ed684aca-cda7-460b-ed01-3aa4b0280776"
      },
      "execution_count": 7,
      "outputs": [
        {
          "output_type": "execute_result",
          "data": {
            "text/plain": [
              "[('fillmore',), ('eisenhower',), ('delano',), ('abraham',)]"
            ]
          },
          "metadata": {},
          "execution_count": 7
        }
      ]
    },
    {
      "cell_type": "markdown",
      "source": [
        "#### 5. SELECT all dogs that are siblings (one-to-one relations). Only show a sibling pair once. To do this you need to select two times from the parents table."
      ],
      "metadata": {
        "id": "dMVS85m_doJ-"
      }
    },
    {
      "cell_type": "code",
      "source": [
        "cmd = \"\"\"SELECT p1.child, p2.child\n",
        "FROM parents p1 JOIN parents p2\n",
        "ON (p1.parent = p2.parent) AND (p1.child > p2.child)\"\"\"\n",
        "cursor.execute(cmd)\n",
        "cursor.fetchall()"
      ],
      "metadata": {
        "colab": {
          "base_uri": "https://localhost:8080/"
        },
        "id": "1Op88kxLdg50",
        "outputId": "3456d39b-da83-4f03-9f27-e3ee40cc5b8d"
      },
      "execution_count": 8,
      "outputs": [
        {
          "output_type": "execute_result",
          "data": {
            "text/plain": [
              "[('clinton', 'barack'),\n",
              " ('delano', 'abraham'),\n",
              " ('grover', 'abraham'),\n",
              " ('grover', 'delano')]"
            ]
          },
          "metadata": {},
          "execution_count": 8
        }
      ]
    },
    {
      "cell_type": "markdown",
      "source": [
        "### **Q2 Joins**"
      ],
      "metadata": {
        "id": "RNdqpOhGeVC_"
      }
    },
    {
      "cell_type": "markdown",
      "source": [
        "Create a new table called dogs, which indicates the fur type of every dog. In the image above:\n",
        "\n",
        "* long haired dogs = red dashed box\n",
        "\n",
        "* curly haired dogs = black fluffy box\n",
        "\n",
        "* short haired dogs = grey dotted box"
      ],
      "metadata": {
        "id": "a0vddA6Lei-q"
      }
    },
    {
      "cell_type": "code",
      "source": [
        "cmd = \"\"\"CREATE TABLE dogs AS\n",
        "SELECT \"abraham\" AS name, \"long\" AS fur UNION\n",
        "SELECT \"barack\", \"short\" UNION\n",
        "SELECT \"clinton\", \"long\" UNION\n",
        "SELECT \"delano\", \"long\" UNION\n",
        "SELECT \"eisenhower\", \"short\" UNION\n",
        "SELECT \"fillmore\", \"curly\" UNION\n",
        "SELECT \"grover\", \"short\" UNION\n",
        "SELECT \"herbert\", \"curly\";\n",
        "\"\"\"\n",
        "cursor.execute(cmd)"
      ],
      "metadata": {
        "colab": {
          "base_uri": "https://localhost:8080/"
        },
        "id": "RW9DnSMyeB58",
        "outputId": "b0835945-33aa-4cf0-8113-b24191e9b0d9"
      },
      "execution_count": 9,
      "outputs": [
        {
          "output_type": "execute_result",
          "data": {
            "text/plain": [
              "<sqlite3.Cursor at 0x7e2a6049fa40>"
            ]
          },
          "metadata": {},
          "execution_count": 9
        }
      ]
    },
    {
      "cell_type": "markdown",
      "source": [
        "#### 1. COUNT the number of short haired dogs"
      ],
      "metadata": {
        "id": "1QL0DVjee9el"
      }
    },
    {
      "cell_type": "code",
      "source": [
        "cmd = \"\"\"SELECT COUNT(*)\n",
        "FROM dogs\n",
        "WHERE fur = 'short';\"\"\"\n",
        "cursor.execute(cmd)\n",
        "cursor.fetchall()"
      ],
      "metadata": {
        "colab": {
          "base_uri": "https://localhost:8080/"
        },
        "id": "yg9k3QT0ex2k",
        "outputId": "59e16202-764e-443b-f65a-2465ea439a07"
      },
      "execution_count": 10,
      "outputs": [
        {
          "output_type": "execute_result",
          "data": {
            "text/plain": [
              "[(3,)]"
            ]
          },
          "metadata": {},
          "execution_count": 10
        }
      ]
    },
    {
      "cell_type": "markdown",
      "source": [
        "#### 2. JOIN tables parents and dogs and SELECT the parents of curly dogs."
      ],
      "metadata": {
        "id": "O5t_74QkfPPT"
      }
    },
    {
      "cell_type": "code",
      "source": [
        "cmd = \"\"\"SELECT p.parent\n",
        "FROM parents p JOIN dogs d\n",
        "WHERE p.child = d.name and d.fur='curly';\"\"\"\n",
        "cursor.execute(cmd)\n",
        "cursor.fetchall()"
      ],
      "metadata": {
        "colab": {
          "base_uri": "https://localhost:8080/"
        },
        "id": "xbNCjfKVfKvi",
        "outputId": "48564e95-055a-4dc3-b205-17637668b5e3"
      },
      "execution_count": 11,
      "outputs": [
        {
          "output_type": "execute_result",
          "data": {
            "text/plain": [
              "[('eisenhower',), ('delano',)]"
            ]
          },
          "metadata": {},
          "execution_count": 11
        }
      ]
    },
    {
      "cell_type": "markdown",
      "source": [
        "#### 3. JOIN tables parents and dogs, and SELECT the parents and children that have the same fur type. Only show them once."
      ],
      "metadata": {
        "id": "6-Bma_arfsJx"
      }
    },
    {
      "cell_type": "code",
      "source": [
        "cmd = \"\"\"SELECT p.parent, p.child\n",
        "FROM parents p JOIN dogs d1\n",
        "ON p.child = d1.name\n",
        "JOIN dogs d2\n",
        "ON p.parent = d2.name\n",
        "WHERE d1.fur = d2.fur;\"\"\"\n",
        "cursor.execute(cmd)\n",
        "cursor.fetchall()"
      ],
      "metadata": {
        "colab": {
          "base_uri": "https://localhost:8080/"
        },
        "id": "DtUshhBJfeFS",
        "outputId": "b695c0a2-1e8f-45d8-8213-781c6e7fe2dd"
      },
      "execution_count": 12,
      "outputs": [
        {
          "output_type": "execute_result",
          "data": {
            "text/plain": [
              "[('abraham', 'clinton')]"
            ]
          },
          "metadata": {},
          "execution_count": 12
        }
      ]
    },
    {
      "cell_type": "markdown",
      "source": [
        "### **Q3 Aggregate functions, numerical logic and grouping**"
      ],
      "metadata": {
        "id": "AdIWlM5LgIGG"
      }
    },
    {
      "cell_type": "markdown",
      "source": [
        "#### Create a new table with many different animals. The table includes the animal's kind, number of legs and weight"
      ],
      "metadata": {
        "id": "6RVo1DSKgKzz"
      }
    },
    {
      "cell_type": "code",
      "source": [
        "cmd = \"\"\"CREATE table animals AS\n",
        "SELECT \"dog\" AS kind, 4 AS legs, 20 AS weight UNION\n",
        "SELECT \"cat\" , 4 , 10 UNION\n",
        "SELECT \"ferret\" , 4 , 10 UNION\n",
        "SELECT \"parrot\" , 2 , 6 UNION\n",
        "SELECT \"penguin\" , 2 , 10 UNION\n",
        "SELECT \"t-rex\" , 2 , 12000;\"\"\"\n",
        "cursor.execute(cmd)"
      ],
      "metadata": {
        "colab": {
          "base_uri": "https://localhost:8080/"
        },
        "id": "f9ldE4fpgJ6U",
        "outputId": "8026619d-b063-4483-bde0-46c65addc637"
      },
      "execution_count": 13,
      "outputs": [
        {
          "output_type": "execute_result",
          "data": {
            "text/plain": [
              "<sqlite3.Cursor at 0x7e2a6049fa40>"
            ]
          },
          "metadata": {},
          "execution_count": 13
        }
      ]
    },
    {
      "cell_type": "markdown",
      "source": [
        "#### 1. SELECT the animal with the minimum weight. Display kind and min_weight"
      ],
      "metadata": {
        "id": "rW3e6wu5gU12"
      }
    },
    {
      "cell_type": "code",
      "source": [
        "cmd = \"\"\"SELECT kind, weight\n",
        "FROM animals\n",
        "WHERE weight = (SELECT MIN(weight) FROM animals);\"\"\"\n",
        "cursor.execute(cmd)\n",
        "cursor.fetchall()"
      ],
      "metadata": {
        "colab": {
          "base_uri": "https://localhost:8080/"
        },
        "id": "SrBdlbctgTUh",
        "outputId": "5d82ad06-da99-43b5-c2ef-25c1ff92d94a"
      },
      "execution_count": 14,
      "outputs": [
        {
          "output_type": "execute_result",
          "data": {
            "text/plain": [
              "[('parrot', 6)]"
            ]
          },
          "metadata": {},
          "execution_count": 14
        }
      ]
    },
    {
      "cell_type": "code",
      "source": [
        "cmd = \"\"\"SELECT kind, weight\n",
        "FROM animals\n",
        "ORDER BY weight\n",
        "LIMIT 1;\"\"\"\n",
        "cursor.execute(cmd)\n",
        "cursor.fetchall()"
      ],
      "metadata": {
        "colab": {
          "base_uri": "https://localhost:8080/"
        },
        "id": "OME5OIPXB7wU",
        "outputId": "66a85c00-ab84-4ee1-d664-05d46fbb0f60"
      },
      "execution_count": 15,
      "outputs": [
        {
          "output_type": "execute_result",
          "data": {
            "text/plain": [
              "[('parrot', 6)]"
            ]
          },
          "metadata": {},
          "execution_count": 15
        }
      ]
    },
    {
      "cell_type": "markdown",
      "source": [
        "#### 2. Use the aggregate function AVG to display a table with the average number of legs and the average weight"
      ],
      "metadata": {
        "id": "dmi1IDRzg7io"
      }
    },
    {
      "cell_type": "code",
      "source": [
        "cmd = \"\"\"SELECT AVG(legs), AVG(weight)\n",
        "FROM animals;\"\"\"\n",
        "cursor.execute(cmd)\n",
        "cursor.fetchall()"
      ],
      "metadata": {
        "colab": {
          "base_uri": "https://localhost:8080/"
        },
        "id": "NiA_mvaHgkpR",
        "outputId": "33850267-91a8-40d6-c17e-5f48231f049f"
      },
      "execution_count": 16,
      "outputs": [
        {
          "output_type": "execute_result",
          "data": {
            "text/plain": [
              "[(3.0, 2009.3333333333333)]"
            ]
          },
          "metadata": {},
          "execution_count": 16
        }
      ]
    },
    {
      "cell_type": "markdown",
      "source": [
        "#### 3. SELECT the animal kind(s) that have more than two legs, but weighs less than 20. Display kind, weight, legs."
      ],
      "metadata": {
        "id": "sTrRfOnKhUiS"
      }
    },
    {
      "cell_type": "code",
      "source": [
        "cmd = \"\"\"SELECT kind,weight,legs\n",
        "FROM animals\n",
        "WHERE legs > 2 AND weight < 20;\"\"\"\n",
        "cursor.execute(cmd)\n",
        "cursor.fetchall()"
      ],
      "metadata": {
        "colab": {
          "base_uri": "https://localhost:8080/"
        },
        "id": "sWacI-znhSQK",
        "outputId": "28701227-f047-49b3-b0c1-01da174257cb"
      },
      "execution_count": 17,
      "outputs": [
        {
          "output_type": "execute_result",
          "data": {
            "text/plain": [
              "[('cat', 10, 4), ('ferret', 10, 4)]"
            ]
          },
          "metadata": {},
          "execution_count": 17
        }
      ]
    },
    {
      "cell_type": "markdown",
      "source": [
        "#### 4. SELECT the average weight for all the animals with 2 legs and the animals with 4 legs (by using GROUP BY)"
      ],
      "metadata": {
        "id": "mxvchcuVhlPi"
      }
    },
    {
      "cell_type": "code",
      "source": [
        "cmd = \"\"\"SELECT legs, AVG(weight)\n",
        "FROM animals\n",
        "GROUP BY legs\n",
        "HAVING legs in (2,4);\"\"\"\n",
        "cursor.execute(cmd)\n",
        "cursor.fetchall()"
      ],
      "metadata": {
        "colab": {
          "base_uri": "https://localhost:8080/"
        },
        "id": "DgTTMERghg0E",
        "outputId": "8fe1b833-6a93-46a0-bcb1-e3d64e759e4e"
      },
      "execution_count": 18,
      "outputs": [
        {
          "output_type": "execute_result",
          "data": {
            "text/plain": [
              "[(2, 4005.3333333333335), (4, 13.333333333333334)]"
            ]
          },
          "metadata": {},
          "execution_count": 18
        }
      ]
    },
    {
      "cell_type": "code",
      "source": [],
      "metadata": {
        "id": "4UEiV3WCh66m"
      },
      "execution_count": null,
      "outputs": []
    }
  ]
}