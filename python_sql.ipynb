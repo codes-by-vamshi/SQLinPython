{
  "cells": [
    {
      "cell_type": "markdown",
      "metadata": {
        "id": "O76dSDyTDIJj"
      },
      "source": [
        "# Notebook: SQL in Python\n",
        "\n",
        "**References / Sources: Data-X Plaksha**\n",
        "\n",
        "[SQL Syntax Convention](https://dataschool.com/how-to-teach-people-sql/syntax-conventions/#:~:text=For%20readability%2C%20all%20SQL%20commands,what%20the%20query%20is%20executing.)\n",
        "\n",
        "[Quick References](https://www.w3schools.com/sql/sql_quickref.asp)"
      ]
    },
    {
      "cell_type": "markdown",
      "metadata": {
        "id": "E7a_OOcfDIJk"
      },
      "source": [
        "# Table of Contents\n",
        "\n",
        "### * [Basics: sqlite3 (Python builtin)](#sec1)\n",
        "### * [Pandas and SQL](#sec2)\n",
        "### * [ORM: SQLAlchemy](#sec3)"
      ]
    },
    {
      "cell_type": "markdown",
      "metadata": {
        "id": "nx3JcjCtDIJl"
      },
      "source": [
        "# SQLite 3"
      ]
    },
    {
      "cell_type": "code",
      "execution_count": 1,
      "metadata": {
        "id": "L2uaE0-DDIJl"
      },
      "outputs": [],
      "source": [
        "# sqlite3 package comes with the Python installation\n",
        "import sqlite3"
      ]
    },
    {
      "cell_type": "code",
      "execution_count": 2,
      "metadata": {
        "colab": {
          "base_uri": "https://localhost:8080/"
        },
        "id": "M8OIbWKJDIJl",
        "outputId": "db02337a-2738-46af-fc69-1e0a2a8891fd",
        "scrolled": true
      },
      "outputs": [
        {
          "name": "stdout",
          "output_type": "stream",
          "text": [
            "311_NYC.csv  README.md\tcompany.db  python_sql.ipynb\n"
          ]
        }
      ],
      "source": [
        "# list files in w.d.\n",
        "!ls"
      ]
    },
    {
      "cell_type": "code",
      "execution_count": 3,
      "metadata": {
        "id": "cPJCflDDDIJm"
      },
      "outputs": [],
      "source": [
        "# open connnection to a db file stored locally on disk\n",
        "# if file doesn't exist it is created\n",
        "connection = sqlite3.connect('company.db')"
      ]
    },
    {
      "cell_type": "code",
      "execution_count": 4,
      "metadata": {
        "colab": {
          "base_uri": "https://localhost:8080/"
        },
        "id": "MZgslv0DDIJm",
        "outputId": "ec149cfc-03f9-42de-ad49-519917374760"
      },
      "outputs": [
        {
          "name": "stdout",
          "output_type": "stream",
          "text": [
            "311_NYC.csv  README.md\tcompany.db  python_sql.ipynb\n"
          ]
        }
      ],
      "source": [
        "!ls # file is created"
      ]
    },
    {
      "cell_type": "code",
      "execution_count": 5,
      "metadata": {
        "id": "8bgckcThDIJm"
      },
      "outputs": [],
      "source": [
        "# In order to run SQL commands with\n",
        "# sqlite 3 we must create a cursor object\n",
        "# that traverses the database\n",
        "cursor = connection.cursor()\n",
        "\n",
        "# to run sql commands execute them"
      ]
    },
    {
      "cell_type": "code",
      "execution_count": 6,
      "metadata": {
        "colab": {
          "base_uri": "https://localhost:8080/"
        },
        "id": "tTXVreYVDIJm",
        "outputId": "dfd1b671-8fc7-4a7a-fcaa-62bae9f0dc91"
      },
      "outputs": [
        {
          "data": {
            "text/plain": [
              "<sqlite3.Cursor at 0x7f5197bc0d40>"
            ]
          },
          "execution_count": 6,
          "metadata": {},
          "output_type": "execute_result"
        }
      ],
      "source": [
        "# Check that we are working with an empty db\n",
        "cursor.execute(\"DROP TABLE IF EXISTS employee;\")"
      ]
    },
    {
      "cell_type": "code",
      "execution_count": 7,
      "metadata": {
        "id": "xwC8y-ElDIJn"
      },
      "outputs": [],
      "source": [
        "# We can define long SQL commands within three quotes\n",
        "\n",
        "sql_command = \"\"\"\n",
        "CREATE TABLE employee (\n",
        "staff_number INTEGER PRIMARY KEY,\n",
        "fname VARCHAR(20),\n",
        "lname VARCHAR(30),\n",
        "gender CHAR(1),\n",
        "birth_date DATE);\n",
        "\"\"\"\n",
        "\n",
        "# VARCHAR string that can be up to X characters\n",
        "# CHAR has to be X characters"
      ]
    },
    {
      "cell_type": "markdown",
      "metadata": {
        "id": "kPjWigtjDIJn"
      },
      "source": [
        "**Link to SQL datatypes:** [https://www.w3schools.com/sql/sql_datatypes.asp](https://www.w3schools.com/sql/sql_datatypes.asp)"
      ]
    },
    {
      "cell_type": "code",
      "execution_count": 8,
      "metadata": {
        "colab": {
          "base_uri": "https://localhost:8080/"
        },
        "id": "uRVZTNhEDIJn",
        "outputId": "6a9a2936-7730-4be3-8158-1bf3fe2c7414"
      },
      "outputs": [
        {
          "data": {
            "text/plain": [
              "<sqlite3.Cursor at 0x7f5197bc0d40>"
            ]
          },
          "execution_count": 8,
          "metadata": {},
          "output_type": "execute_result"
        }
      ],
      "source": [
        "# In order to run SQL command on the databse file\n",
        "# we have to execute them with the cursor\n",
        "cursor.execute(sql_command)"
      ]
    },
    {
      "cell_type": "code",
      "execution_count": 9,
      "metadata": {
        "colab": {
          "base_uri": "https://localhost:8080/"
        },
        "id": "bpQOFXtHDIJn",
        "outputId": "675165a7-8fe6-469e-d52c-368d4a38d4f6"
      },
      "outputs": [
        {
          "data": {
            "text/plain": [
              "<sqlite3.Cursor at 0x7f5197bc0d40>"
            ]
          },
          "execution_count": 9,
          "metadata": {},
          "output_type": "execute_result"
        }
      ],
      "source": [
        "sql_command = '''\n",
        "INSERT INTO employee\n",
        "(staff_number, fname, lname, gender, birth_date)\n",
        "VALUES\n",
        "(NULL, NULL, \"Shakespeare\", \"m\", \"1961-10-25\");'''\n",
        "\n",
        "cursor.execute(sql_command)"
      ]
    },
    {
      "cell_type": "code",
      "execution_count": 10,
      "metadata": {
        "colab": {
          "base_uri": "https://localhost:8080/"
        },
        "id": "Lkwh0a8HDIJn",
        "outputId": "6e82a750-ba44-4384-e2f1-b03aac36db5c"
      },
      "outputs": [
        {
          "data": {
            "text/plain": [
              "<sqlite3.Cursor at 0x7f5197bc0d40>"
            ]
          },
          "execution_count": 10,
          "metadata": {},
          "output_type": "execute_result"
        }
      ],
      "source": [
        "sql_command = '''\n",
        "INSERT INTO employee\n",
        "(staff_number, fname, lname, gender, birth_date)\n",
        "VALUES (5, \"Frankia2\", \"Schillerya2\", \"m\", \"1958-08-17\");'''\n",
        "\n",
        "\n",
        "cursor.execute(sql_command)"
      ]
    },
    {
      "cell_type": "code",
      "execution_count": 11,
      "metadata": {
        "id": "VRCcrAYDDIJo"
      },
      "outputs": [],
      "source": [
        "# never forget to commit your queries\n",
        "# if you have updated the database\n",
        "# and close the connection when you're done\n",
        "\n",
        "connection.commit()\n",
        "\n",
        "connection.close()"
      ]
    },
    {
      "cell_type": "code",
      "execution_count": 12,
      "metadata": {
        "id": "UXqnm-qDDIJo"
      },
      "outputs": [],
      "source": [
        "# reopen the connection and create cursor\n",
        "connection = sqlite3.connect('company.db')\n",
        "\n",
        "cursor = connection.cursor()"
      ]
    },
    {
      "cell_type": "code",
      "execution_count": 13,
      "metadata": {
        "id": "hDtdshC9DIJo"
      },
      "outputs": [],
      "source": [
        "a = cursor.execute('SELECT * FROM employee;')"
      ]
    },
    {
      "cell_type": "code",
      "execution_count": 14,
      "metadata": {
        "colab": {
          "base_uri": "https://localhost:8080/"
        },
        "id": "RnLiYWHdDIJo",
        "outputId": "8bd837bc-52ce-4fe7-9f4a-a8c5c3eb0896"
      },
      "outputs": [
        {
          "data": {
            "text/plain": [
              "<sqlite3.Cursor at 0x7f5197bc0fc0>"
            ]
          },
          "execution_count": 14,
          "metadata": {},
          "output_type": "execute_result"
        }
      ],
      "source": [
        "a"
      ]
    },
    {
      "cell_type": "code",
      "execution_count": 15,
      "metadata": {
        "colab": {
          "base_uri": "https://localhost:8080/"
        },
        "id": "mvI3sQq8DIJo",
        "outputId": "6ab73c4d-21ea-407e-96dc-0ee075a92dfc"
      },
      "outputs": [
        {
          "data": {
            "text/plain": [
              "[(1, None, 'Shakespeare', 'm', '1961-10-25'),\n",
              " (5, 'Frankia2', 'Schillerya2', 'm', '1958-08-17')]"
            ]
          },
          "execution_count": 15,
          "metadata": {},
          "output_type": "execute_result"
        }
      ],
      "source": [
        "a.fetchall()"
      ]
    },
    {
      "cell_type": "code",
      "execution_count": 16,
      "metadata": {
        "id": "zFh7xKTHDIJo"
      },
      "outputs": [],
      "source": [
        "# fetch values, a.fetchall is a generator object\n",
        "for row in a.fetchall():\n",
        "    print(row)"
      ]
    },
    {
      "cell_type": "code",
      "execution_count": 17,
      "metadata": {
        "id": "rgKCaa3rDIJo"
      },
      "outputs": [],
      "source": [
        "# close connection\n",
        "connection.close()"
      ]
    },
    {
      "cell_type": "code",
      "execution_count": 18,
      "metadata": {
        "id": "4WwpqAwRDIJq"
      },
      "outputs": [],
      "source": [
        "# Assume we already have a company.db sqlite database file\n",
        "# with a Table called employees\n",
        "\n",
        "# Add several values with sqlite3 and string formatting\n",
        "\n",
        "connection = sqlite3.connect(\"company.db\")\n",
        "\n",
        "cursor = connection.cursor()\n",
        "\n",
        "# list of tuples we want to add to the database\n",
        "staff_data = [ (\"Alfred\", \"Nobel\", \"m\", \"1921-05-02\"), \\\n",
        "              (\"Klaus\", \"Kinski\", \"m\", \"1935-09-07\"),  \\\n",
        "              (\"Jane\", \"Wall\", \"f\", \"1989-05-03\") ]\n",
        "\n",
        "for p in staff_data:\n",
        "\n",
        "    # define string to be formatted, name format placeholders within curly brackets\n",
        "    format_str = '''\n",
        "    INSERT INTO employee (staff_number, fname, lname, gender, birth_date)\n",
        "    VALUES (NULL, \"{first}\", \"{last}\", \"{gender}\", \"{birthdate}\");\n",
        "    '''\n",
        "\n",
        "    # define SQL command\n",
        "    sql_command = format_str.format(first=p[0], last=p[1],\n",
        "                                gender=p[2], birthdate = p[3])\n",
        "\n",
        "    cursor.execute(sql_command)\n",
        "\n",
        "# Commit changes\n",
        "connection.commit()"
      ]
    },
    {
      "cell_type": "code",
      "execution_count": 19,
      "metadata": {
        "colab": {
          "base_uri": "https://localhost:8080/"
        },
        "id": "6jYx5DqbDIJq",
        "outputId": "8669a3ff-39ab-45b9-a537-91d5f6ed941e"
      },
      "outputs": [
        {
          "name": "stdout",
          "output_type": "stream",
          "text": [
            "fetchall:\n",
            "(1, None, 'Shakespeare', 'm', '1961-10-25')\n",
            "(5, 'Frankia2', 'Schillerya2', 'm', '1958-08-17')\n",
            "(6, 'Alfred', 'Nobel', 'm', '1921-05-02')\n",
            "(7, 'Klaus', 'Kinski', 'm', '1935-09-07')\n",
            "(8, 'Jane', 'Wall', 'f', '1989-05-03')\n"
          ]
        }
      ],
      "source": [
        "# Check that the changes were committed\n",
        "cursor.execute(\"SELECT * FROM employee\")\n",
        "\n",
        "print(\"fetchall:\")\n",
        "\n",
        "result = cursor.fetchall()\n",
        "\n",
        "for r in result:\n",
        "\n",
        "    print(r)"
      ]
    },
    {
      "cell_type": "code",
      "execution_count": 20,
      "metadata": {
        "colab": {
          "base_uri": "https://localhost:8080/"
        },
        "id": "O4gvNou9DIJq",
        "outputId": "0d77c129-8f72-462b-b122-35e77d7c4d50"
      },
      "outputs": [
        {
          "data": {
            "text/plain": [
              "5"
            ]
          },
          "execution_count": 20,
          "metadata": {},
          "output_type": "execute_result"
        }
      ],
      "source": [
        "cursor.execute('SELECT Count(*) FROM employee').fetchone()[0]"
      ]
    },
    {
      "cell_type": "code",
      "execution_count": 21,
      "metadata": {
        "colab": {
          "base_uri": "https://localhost:8080/"
        },
        "id": "-j9M1u4jDIJq",
        "outputId": "e075bcad-b497-45f1-ec79-962f7145e680"
      },
      "outputs": [
        {
          "name": "stdout",
          "output_type": "stream",
          "text": [
            "\n",
            "Fetch one at a time:\n",
            "(1, None, 'Shakespeare', 'm', '1961-10-25')\n",
            "(5, 'Frankia2', 'Schillerya2', 'm', '1958-08-17')\n",
            "(6, 'Alfred', 'Nobel', 'm', '1921-05-02')\n",
            "(7, 'Klaus', 'Kinski', 'm', '1935-09-07')\n",
            "(8, 'Jane', 'Wall', 'f', '1989-05-03')\n"
          ]
        }
      ],
      "source": [
        "# Alternative approach\n",
        "\n",
        "# Count rows in the database\n",
        "n_rows = cursor.execute('SELECT Count(*) FROM employee').fetchone()[0]\n",
        "\n",
        "res = cursor.execute(\"SELECT * FROM employee\")\n",
        "\n",
        "print(\"\\nFetch one at a time:\")\n",
        "for i in range(0, n_rows): # we need to unpack\n",
        "    tmp = res.fetchone()\n",
        "\n",
        "    print(tmp)"
      ]
    },
    {
      "cell_type": "code",
      "execution_count": 22,
      "metadata": {
        "colab": {
          "base_uri": "https://localhost:8080/"
        },
        "id": "ERtRxXQ6dOEl",
        "outputId": "a26d2bef-ad44-4781-adff-bc1f39b70770"
      },
      "outputs": [
        {
          "data": {
            "text/plain": [
              "[(8, 'Jane', 'Wall', 'f', '1989-05-03')]"
            ]
          },
          "execution_count": 22,
          "metadata": {},
          "output_type": "execute_result"
        }
      ],
      "source": [
        "# Filter values using WHERE\n",
        "\n",
        "sql_command = '''\n",
        "SELECT *\n",
        "FROM employee\n",
        "WHERE gender = 'f';\n",
        "'''\n",
        "\n",
        "cursor.execute(sql_command).fetchall()"
      ]
    },
    {
      "cell_type": "code",
      "execution_count": 23,
      "metadata": {
        "colab": {
          "base_uri": "https://localhost:8080/"
        },
        "id": "hAZ3janQeRFL",
        "outputId": "21c058fb-48c5-47e5-ab2b-c093d972a49e"
      },
      "outputs": [
        {
          "data": {
            "text/plain": [
              "[(1, None, 'Shakespeare', 'm', '1961-10-25')]"
            ]
          },
          "execution_count": 23,
          "metadata": {},
          "output_type": "execute_result"
        }
      ],
      "source": [
        "# Value matching/string completion using LIKE\n",
        "\n",
        "sql_command = '''\n",
        "SELECT *\n",
        "FROM employee\n",
        "WHERE birth_date LIKE \"%196%\";\n",
        "'''\n",
        "\n",
        "cursor.execute(sql_command).fetchall()"
      ]
    },
    {
      "cell_type": "code",
      "execution_count": 24,
      "metadata": {
        "colab": {
          "base_uri": "https://localhost:8080/"
        },
        "id": "aQRBSdAXfdzp",
        "outputId": "d972a669-976e-4925-85a0-7535e410e006"
      },
      "outputs": [
        {
          "data": {
            "text/plain": [
              "[(1, 'm', '1961-10-25'), (5, 'm', '1958-08-17')]"
            ]
          },
          "execution_count": 24,
          "metadata": {},
          "output_type": "execute_result"
        }
      ],
      "source": [
        "# Filtering based on a range of values\n",
        "\n",
        "sql_command = '''\n",
        "SELECT staff_number, gender, birth_date\n",
        "FROM employee\n",
        "WHERE birth_date > '1950-01-01'\n",
        "AND gender = 'm' ;\n",
        "'''\n",
        "\n",
        "cursor.execute(sql_command).fetchall()"
      ]
    },
    {
      "cell_type": "code",
      "execution_count": 25,
      "metadata": {
        "colab": {
          "base_uri": "https://localhost:8080/"
        },
        "id": "rMSsd2nUgUDd",
        "outputId": "69a268bd-b149-4bde-d893-8fa20f50a764"
      },
      "outputs": [
        {
          "data": {
            "text/plain": [
              "[(1, 'William', 'Shakespeare', 'm', '1961-10-25'),\n",
              " (5, 'Frankia2', 'Schillerya2', 'm', '1958-08-17'),\n",
              " (6, 'Alfred', 'Nobel', 'm', '1921-05-02'),\n",
              " (7, 'Klaus', 'Kinski', 'm', '1935-09-07'),\n",
              " (8, 'Jane', 'Wall', 'f', '1989-05-03')]"
            ]
          },
          "execution_count": 25,
          "metadata": {},
          "output_type": "execute_result"
        }
      ],
      "source": [
        "# UPDATE values in the database\n",
        "\n",
        "sql_command = '''\n",
        "UPDATE employee\n",
        "SET fname = \"William\"\n",
        "WHERE lname = \"Shakespeare\";\n",
        "'''\n",
        "\n",
        "cursor.execute(sql_command)\n",
        "cursor.execute('SELECT * FROM employee').fetchall()"
      ]
    },
    {
      "cell_type": "code",
      "execution_count": 26,
      "metadata": {
        "colab": {
          "base_uri": "https://localhost:8080/"
        },
        "id": "yEieYMEUi7Ne",
        "outputId": "2ae140f4-c559-4bbf-f486-4b53cc2b8c33"
      },
      "outputs": [
        {
          "data": {
            "text/plain": [
              "[(5, 'Frankia2', 'Schillerya2', 'm', '1958-08-17'),\n",
              " (6, 'Alfred', 'Nobel', 'm', '1921-05-02'),\n",
              " (7, 'Klaus', 'Kinski', 'm', '1935-09-07'),\n",
              " (8, 'Jane', 'Wall', 'f', '1989-05-03')]"
            ]
          },
          "execution_count": 26,
          "metadata": {},
          "output_type": "execute_result"
        }
      ],
      "source": [
        "# Removing values from the database\n",
        "\n",
        "sql_command = '''\n",
        "DELETE FROM employee\n",
        "WHERE fname = \"William\";\n",
        "'''\n",
        "\n",
        "cursor.execute(sql_command)\n",
        "cursor.execute('SELECT * FROM employee').fetchall()\n",
        "\n",
        "# '''DROP employees''' will delete all data and the table structure as well.\n",
        "# '''DELETE * FROM employee''' will delete the data but the table structure will remain the same."
      ]
    },
    {
      "cell_type": "code",
      "execution_count": 27,
      "metadata": {
        "id": "bx34JICCKWcJ"
      },
      "outputs": [],
      "source": [
        "connection.commit()\n",
        "connection.close()"
      ]
    },
    {
      "cell_type": "markdown",
      "metadata": {
        "id": "uK40iuWcktmo"
      },
      "source": [
        "## JOINS"
      ]
    },
    {
      "cell_type": "code",
      "execution_count": 28,
      "metadata": {
        "id": "1SCLwEqmo47-"
      },
      "outputs": [],
      "source": [
        "connection = sqlite3.connect('orders.db')\n",
        "\n",
        "cursor = connection.cursor()"
      ]
    },
    {
      "cell_type": "code",
      "execution_count": 29,
      "metadata": {
        "colab": {
          "base_uri": "https://localhost:8080/"
        },
        "id": "ZoQGeMo1kwLH",
        "outputId": "8885ad17-9f2a-4b58-a6f7-e2e584930cc4"
      },
      "outputs": [
        {
          "data": {
            "text/plain": [
              "[(1, 'John Doe', 'USA'),\n",
              " (2, 'Jane King', 'Germany'),\n",
              " (3, 'Aby Will', 'Canada'),\n",
              " (4, 'Bob Chen', 'China')]"
            ]
          },
          "execution_count": 29,
          "metadata": {},
          "output_type": "execute_result"
        }
      ],
      "source": [
        "sql_command = '''\n",
        "CREATE TABLE Customers(\n",
        "CustomerID INT NOT NULL,\n",
        "CustomerName VARCHAR(100) NOT NULL,\n",
        "Country VARCHAR(70) NOT NULL,\n",
        "PRIMARY KEY (CustomerID));\n",
        "'''\n",
        "\n",
        "cursor.execute(sql_command)\n",
        "\n",
        "sql_command = '''\n",
        "INSERT INTO Customers (CustomerId, CustomerName, Country)\n",
        "VALUES (1, \"John Doe\", \"USA\") UNION\n",
        "VALUES (2, \"Jane King\", \"Germany\") UNION\n",
        "VALUES (3, \"Aby Will\", \"Canada\") UNION\n",
        "VALUES (4, \"Bob Chen\", \"China\");\n",
        "'''\n",
        "\n",
        "cursor.execute(sql_command)\n",
        "cursor.execute('SELECT * FROM Customers').fetchall()"
      ]
    },
    {
      "cell_type": "code",
      "execution_count": 30,
      "metadata": {
        "colab": {
          "base_uri": "https://localhost:8080/"
        },
        "id": "NxSskIK_od9B",
        "outputId": "1567d8f6-3a3d-47b0-8a26-7b13485aeebd"
      },
      "outputs": [
        {
          "data": {
            "text/plain": [
              "[(1, 1, '2016-09-01'), (2, 4, '2016-07-25'), (3, 1, '2016-08-06')]"
            ]
          },
          "execution_count": 30,
          "metadata": {},
          "output_type": "execute_result"
        }
      ],
      "source": [
        "sql_command = '''\n",
        "CREATE TABLE Orders\n",
        "(OrderID INT NOT NULL,\n",
        "CustomerID INT NOT NULL,\n",
        "OrderDate DATE NOT NULL,\n",
        "PRIMARY KEY (OrderID),\n",
        "FOREIGN KEY (CustomerID) REFERENCES Customers(CustomerID));\n",
        "'''\n",
        "\n",
        "cursor.execute(sql_command)\n",
        "\n",
        "sql_command = '''\n",
        "INSERT INTO Orders (OrderId, CustomerId, OrderDate)\n",
        "VALUES (1, 1, '2016-09-01') UNION\n",
        "VALUES (2, 4, '2016-07-25') UNION\n",
        "VALUES (3, 1, '2016-08-06');\n",
        "'''\n",
        "\n",
        "cursor.execute(sql_command)\n",
        "cursor.execute('SELECT * FROM Orders').fetchall()"
      ]
    },
    {
      "cell_type": "markdown",
      "metadata": {
        "id": "93To-Fy_pjH_"
      },
      "source": [
        "![image.png](data:image/png;base64,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)"
      ]
    },
    {
      "cell_type": "code",
      "execution_count": 31,
      "metadata": {
        "colab": {
          "base_uri": "https://localhost:8080/"
        },
        "id": "rO4kQRYBpZQg",
        "outputId": "894654c4-0925-4be9-f3b5-422d0dda738e"
      },
      "outputs": [
        {
          "data": {
            "text/plain": [
              "[('John Doe', 1), ('Bob Chen', 2), ('John Doe', 3)]"
            ]
          },
          "execution_count": 31,
          "metadata": {},
          "output_type": "execute_result"
        }
      ],
      "source": [
        "sql_command = '''\n",
        "SELECT Customers.CustomerName, Orders.OrderID\n",
        "FROM Customers JOIN Orders\n",
        "ON Customers.CustomerID = Orders.CustomerID;\n",
        "'''\n",
        "\n",
        "cursor.execute(sql_command).fetchall()"
      ]
    },
    {
      "cell_type": "markdown",
      "metadata": {
        "id": "RT0zyWxlDIJq"
      },
      "source": [
        "# Quick Data Analysis with SQL and Pandas"
      ]
    },
    {
      "cell_type": "markdown",
      "metadata": {
        "id": "huPE211eDIJr"
      },
      "source": [
        "### Preferred method when running SELECT statements"
      ]
    },
    {
      "cell_type": "code",
      "execution_count": 32,
      "metadata": {
        "id": "dFdQphJeDIJr"
      },
      "outputs": [],
      "source": [
        "import pandas as pd\n",
        "import datetime as dt"
      ]
    },
    {
      "cell_type": "code",
      "execution_count": 33,
      "metadata": {
        "colab": {
          "base_uri": "https://localhost:8080/",
          "height": 175
        },
        "id": "rzsOW114DIJr",
        "outputId": "596692f4-a58c-4c7b-a2b4-8453744986c7"
      },
      "outputs": [
        {
          "data": {
            "text/html": [
              "<div>\n",
              "<style scoped>\n",
              "    .dataframe tbody tr th:only-of-type {\n",
              "        vertical-align: middle;\n",
              "    }\n",
              "\n",
              "    .dataframe tbody tr th {\n",
              "        vertical-align: top;\n",
              "    }\n",
              "\n",
              "    .dataframe thead th {\n",
              "        text-align: right;\n",
              "    }\n",
              "</style>\n",
              "<table border=\"1\" class=\"dataframe\">\n",
              "  <thead>\n",
              "    <tr style=\"text-align: right;\">\n",
              "      <th></th>\n",
              "      <th>staff_number</th>\n",
              "      <th>fname</th>\n",
              "      <th>lname</th>\n",
              "      <th>gender</th>\n",
              "      <th>birth_date</th>\n",
              "    </tr>\n",
              "  </thead>\n",
              "  <tbody>\n",
              "    <tr>\n",
              "      <th>0</th>\n",
              "      <td>5</td>\n",
              "      <td>Frankia2</td>\n",
              "      <td>Schillerya2</td>\n",
              "      <td>m</td>\n",
              "      <td>1958-08-17</td>\n",
              "    </tr>\n",
              "    <tr>\n",
              "      <th>1</th>\n",
              "      <td>6</td>\n",
              "      <td>Alfred</td>\n",
              "      <td>Nobel</td>\n",
              "      <td>m</td>\n",
              "      <td>1921-05-02</td>\n",
              "    </tr>\n",
              "    <tr>\n",
              "      <th>2</th>\n",
              "      <td>7</td>\n",
              "      <td>Klaus</td>\n",
              "      <td>Kinski</td>\n",
              "      <td>m</td>\n",
              "      <td>1935-09-07</td>\n",
              "    </tr>\n",
              "    <tr>\n",
              "      <th>3</th>\n",
              "      <td>8</td>\n",
              "      <td>Jane</td>\n",
              "      <td>Wall</td>\n",
              "      <td>f</td>\n",
              "      <td>1989-05-03</td>\n",
              "    </tr>\n",
              "  </tbody>\n",
              "</table>\n",
              "</div>"
            ],
            "text/plain": [
              "   staff_number     fname        lname gender  birth_date\n",
              "0             5  Frankia2  Schillerya2      m  1958-08-17\n",
              "1             6    Alfred        Nobel      m  1921-05-02\n",
              "2             7     Klaus       Kinski      m  1935-09-07\n",
              "3             8      Jane         Wall      f  1989-05-03"
            ]
          },
          "execution_count": 33,
          "metadata": {},
          "output_type": "execute_result"
        }
      ],
      "source": [
        "# this gives the output as a dataframe\n",
        "connection = sqlite3.connect(\"company.db\")\n",
        "\n",
        "pd.read_sql_query('SELECT * FROM employee', con = connection)"
      ]
    },
    {
      "cell_type": "markdown",
      "metadata": {
        "id": "aSoxwxk5DIJr"
      },
      "source": [
        "#### Initialize database with filename 311_NYC.db in current working directory"
      ]
    },
    {
      "cell_type": "code",
      "execution_count": 34,
      "metadata": {
        "colab": {
          "base_uri": "https://localhost:8080/"
        },
        "id": "6egShkNfDIJr",
        "outputId": "2eaa0eda-bd51-4e2e-db39-fcefc5ac7801"
      },
      "outputs": [
        {
          "name": "stdout",
          "output_type": "stream",
          "text": [
            "index,CreatedDate,ClosedDate,Agency,ComplaintType,Descriptor,City\n",
            "1,\"2011-06-20 10:53:34\",\"2011-06-20 15:15:10\",DOF,\"DOF Property - Owner Issue\",\"Remove Mortgage\",\"GLEN OAKS\"\n",
            "2,\"2011-06-20 10:43:46\",\"2011-06-30 11:33:32\",DOT,\"Street Condition\",\"Defective Hardware\",BROOKLYN\n",
            "3,\"2011-06-20 11:14:08\",\"2011-06-21 18:41:35\",DHS,\"DHS Advantage - Tenant\",\"Other Issue\",\"SOUTH RICHMOND HILL\"\n",
            "4,\"2011-06-20 11:19:17\",\"2011-06-20 14:11:47\",DOT,\"Broken Muni Meter\",\"No Receipt\",\"FOREST HILLS\"\n",
            "5,\"2011-06-20 11:41:47\",\"2011-06-27 10:22:55\",DOF,SCRIE,\"SCRIE Recertification\",\"NEW YORK\"\n",
            "6,\"2011-06-20 11:39:36\",\"2011-06-24 09:07:31\",DOF,SCRIE,\"SCRIE Application Problem\",BROOKLYN\n",
            "7,\"2011-06-20 12:47:17\",\"2011-06-21 09:59:33\",DOF,\"DOF Property - Reduction Issue\",\"Condo or Co-op Abatement\",BROOKLYN\n",
            "8,\"2011-06-20 13:08:49\",\"2011-06-22 13:43:12\",DOF,\"DOF Property - Payment Issue\",\"Misapplied Payment\",\"QUEENS VILLAGE\"\n",
            "9,\"2011-06-20 00:00:00\",\"2011-07-18 00:00:00\",DOHMH,Rodent,\"Rat Sighting\",\"NEW YORK\"\n"
          ]
        }
      ],
      "source": [
        "!head -n10 311_NYC.csv"
      ]
    },
    {
      "cell_type": "code",
      "execution_count": 35,
      "metadata": {
        "colab": {
          "base_uri": "https://localhost:8080/"
        },
        "id": "nEzy1-95DIJr",
        "outputId": "94b45b5a-48ad-4581-decf-95982e7d808c"
      },
      "outputs": [
        {
          "name": "stdout",
          "output_type": "stream",
          "text": [
            "40001 311_NYC.csv\n"
          ]
        }
      ],
      "source": [
        "!wc -l 311_NYC.csv #number of lines"
      ]
    },
    {
      "cell_type": "markdown",
      "metadata": {
        "id": "U6cRQTITDIJr",
        "tags": []
      },
      "source": [
        "### Read in big CSV file to Database\n",
        "\n",
        "Original data set can be downloaded here (several GB's): https://nycopendata.socrata.com/Social-Services/311-Service-Requests-from-2010-to-Present/erm2-nwe9"
      ]
    },
    {
      "cell_type": "code",
      "execution_count": 36,
      "metadata": {
        "id": "3Jwc6_wBDIJr"
      },
      "outputs": [],
      "source": [
        "connection = sqlite3.connect('311_NYC.db')"
      ]
    },
    {
      "cell_type": "code",
      "execution_count": 37,
      "metadata": {
        "colab": {
          "base_uri": "https://localhost:8080/"
        },
        "id": "6RG3IDRwDIJr",
        "outputId": "529239b0-e09d-4542-8383-6bbca17d8e44"
      },
      "outputs": [
        {
          "name": "stdout",
          "output_type": "stream",
          "text": [
            "0 seconds: completed 20000 rows\n",
            "0 seconds: completed 40000 rows\n"
          ]
        }
      ],
      "source": [
        "start = dt.datetime.now()\n",
        "chunksize = 20000\n",
        "j = 0\n",
        "index_start = 1\n",
        "\n",
        "for df in pd.read_csv('311_NYC.csv', chunksize=chunksize, iterator=True, encoding='utf-8'):\n",
        "\n",
        "    df = df.rename(columns={c: c.replace(' ', '') for c in df.columns}) # Remove spaces from columns\n",
        "\n",
        "    df['CreatedDate'] = pd.to_datetime(df['CreatedDate']) # Convert to datetimes\n",
        "    df['ClosedDate'] = pd.to_datetime(df['ClosedDate'])\n",
        "\n",
        "    df.index += index_start\n",
        "\n",
        "    # Columns to keep\n",
        "    columns = ['Agency', 'CreatedDate', 'ClosedDate', 'ComplaintType', 'Descriptor',\n",
        "               'TimeToCompletion','City']\n",
        "\n",
        "    for c in df.columns:\n",
        "        if c not in columns:\n",
        "            df = df.drop(c, axis=1)\n",
        "\n",
        "    j+=1\n",
        "\n",
        "    df.to_sql('data', con=connection, if_exists='append') # name of SQL table, connection, append\n",
        "\n",
        "    print('{} seconds: completed {} rows'.format((dt.datetime.now() - start).seconds, j*chunksize))\n",
        "\n",
        "    index_start = df.index[-1] + 1 # update index start"
      ]
    },
    {
      "cell_type": "markdown",
      "metadata": {
        "id": "wZPetdcHDIJs"
      },
      "source": [
        "#### Preview the DataBase"
      ]
    },
    {
      "cell_type": "code",
      "execution_count": 38,
      "metadata": {
        "colab": {
          "base_uri": "https://localhost:8080/",
          "height": 206
        },
        "id": "jSsq_XHPDIJs",
        "outputId": "6154b568-b647-49e9-bda4-876d6f0d446e"
      },
      "outputs": [
        {
          "data": {
            "text/html": [
              "<div>\n",
              "<style scoped>\n",
              "    .dataframe tbody tr th:only-of-type {\n",
              "        vertical-align: middle;\n",
              "    }\n",
              "\n",
              "    .dataframe tbody tr th {\n",
              "        vertical-align: top;\n",
              "    }\n",
              "\n",
              "    .dataframe thead th {\n",
              "        text-align: right;\n",
              "    }\n",
              "</style>\n",
              "<table border=\"1\" class=\"dataframe\">\n",
              "  <thead>\n",
              "    <tr style=\"text-align: right;\">\n",
              "      <th></th>\n",
              "      <th>index</th>\n",
              "      <th>CreatedDate</th>\n",
              "      <th>ClosedDate</th>\n",
              "      <th>Agency</th>\n",
              "      <th>ComplaintType</th>\n",
              "      <th>Descriptor</th>\n",
              "      <th>City</th>\n",
              "    </tr>\n",
              "  </thead>\n",
              "  <tbody>\n",
              "    <tr>\n",
              "      <th>0</th>\n",
              "      <td>1</td>\n",
              "      <td>2011-06-20 10:53:34</td>\n",
              "      <td>2011-06-20 15:15:10</td>\n",
              "      <td>DOF</td>\n",
              "      <td>DOF Property - Owner Issue</td>\n",
              "      <td>Remove Mortgage</td>\n",
              "      <td>GLEN OAKS</td>\n",
              "    </tr>\n",
              "    <tr>\n",
              "      <th>1</th>\n",
              "      <td>2</td>\n",
              "      <td>2011-06-20 10:43:46</td>\n",
              "      <td>2011-06-30 11:33:32</td>\n",
              "      <td>DOT</td>\n",
              "      <td>Street Condition</td>\n",
              "      <td>Defective Hardware</td>\n",
              "      <td>BROOKLYN</td>\n",
              "    </tr>\n",
              "    <tr>\n",
              "      <th>2</th>\n",
              "      <td>3</td>\n",
              "      <td>2011-06-20 11:14:08</td>\n",
              "      <td>2011-06-21 18:41:35</td>\n",
              "      <td>DHS</td>\n",
              "      <td>DHS Advantage - Tenant</td>\n",
              "      <td>Other Issue</td>\n",
              "      <td>SOUTH RICHMOND HILL</td>\n",
              "    </tr>\n",
              "    <tr>\n",
              "      <th>3</th>\n",
              "      <td>4</td>\n",
              "      <td>2011-06-20 11:19:17</td>\n",
              "      <td>2011-06-20 14:11:47</td>\n",
              "      <td>DOT</td>\n",
              "      <td>Broken Muni Meter</td>\n",
              "      <td>No Receipt</td>\n",
              "      <td>FOREST HILLS</td>\n",
              "    </tr>\n",
              "    <tr>\n",
              "      <th>4</th>\n",
              "      <td>5</td>\n",
              "      <td>2011-06-20 11:41:47</td>\n",
              "      <td>2011-06-27 10:22:55</td>\n",
              "      <td>DOF</td>\n",
              "      <td>SCRIE</td>\n",
              "      <td>SCRIE Recertification</td>\n",
              "      <td>NEW YORK</td>\n",
              "    </tr>\n",
              "  </tbody>\n",
              "</table>\n",
              "</div>"
            ],
            "text/plain": [
              "   index          CreatedDate           ClosedDate Agency  \\\n",
              "0      1  2011-06-20 10:53:34  2011-06-20 15:15:10    DOF   \n",
              "1      2  2011-06-20 10:43:46  2011-06-30 11:33:32    DOT   \n",
              "2      3  2011-06-20 11:14:08  2011-06-21 18:41:35    DHS   \n",
              "3      4  2011-06-20 11:19:17  2011-06-20 14:11:47    DOT   \n",
              "4      5  2011-06-20 11:41:47  2011-06-27 10:22:55    DOF   \n",
              "\n",
              "                ComplaintType             Descriptor                 City  \n",
              "0  DOF Property - Owner Issue        Remove Mortgage            GLEN OAKS  \n",
              "1            Street Condition     Defective Hardware             BROOKLYN  \n",
              "2      DHS Advantage - Tenant            Other Issue  SOUTH RICHMOND HILL  \n",
              "3           Broken Muni Meter             No Receipt         FOREST HILLS  \n",
              "4                       SCRIE  SCRIE Recertification             NEW YORK  "
            ]
          },
          "execution_count": 38,
          "metadata": {},
          "output_type": "execute_result"
        }
      ],
      "source": [
        "pd.read_sql_query('SELECT * FROM data', connection).head()"
      ]
    },
    {
      "cell_type": "markdown",
      "metadata": {
        "id": "Q6K1mH0XDIJy"
      },
      "source": [
        "#### Select a few columns"
      ]
    },
    {
      "cell_type": "code",
      "execution_count": 39,
      "metadata": {
        "colab": {
          "base_uri": "https://localhost:8080/",
          "height": 143
        },
        "id": "lVW1BNf_DIJz",
        "outputId": "16c945ea-5719-4eb4-d3ac-ccfe6ad42c6d"
      },
      "outputs": [
        {
          "data": {
            "text/html": [
              "<div>\n",
              "<style scoped>\n",
              "    .dataframe tbody tr th:only-of-type {\n",
              "        vertical-align: middle;\n",
              "    }\n",
              "\n",
              "    .dataframe tbody tr th {\n",
              "        vertical-align: top;\n",
              "    }\n",
              "\n",
              "    .dataframe thead th {\n",
              "        text-align: right;\n",
              "    }\n",
              "</style>\n",
              "<table border=\"1\" class=\"dataframe\">\n",
              "  <thead>\n",
              "    <tr style=\"text-align: right;\">\n",
              "      <th></th>\n",
              "      <th>Agency</th>\n",
              "      <th>Descriptor</th>\n",
              "    </tr>\n",
              "  </thead>\n",
              "  <tbody>\n",
              "    <tr>\n",
              "      <th>0</th>\n",
              "      <td>DOF</td>\n",
              "      <td>Remove Mortgage</td>\n",
              "    </tr>\n",
              "    <tr>\n",
              "      <th>1</th>\n",
              "      <td>DOT</td>\n",
              "      <td>Defective Hardware</td>\n",
              "    </tr>\n",
              "    <tr>\n",
              "      <th>2</th>\n",
              "      <td>DHS</td>\n",
              "      <td>Other Issue</td>\n",
              "    </tr>\n",
              "  </tbody>\n",
              "</table>\n",
              "</div>"
            ],
            "text/plain": [
              "  Agency          Descriptor\n",
              "0    DOF     Remove Mortgage\n",
              "1    DOT  Defective Hardware\n",
              "2    DHS         Other Issue"
            ]
          },
          "execution_count": 39,
          "metadata": {},
          "output_type": "execute_result"
        }
      ],
      "source": [
        "pd.read_sql_query('SELECT Agency, Descriptor FROM data LIMIT 3', connection)"
      ]
    },
    {
      "cell_type": "markdown",
      "metadata": {
        "id": "qSCpWYOfDIJz"
      },
      "source": [
        "#### Filter rows using WHERE"
      ]
    },
    {
      "cell_type": "code",
      "execution_count": 40,
      "metadata": {
        "colab": {
          "base_uri": "https://localhost:8080/",
          "height": 363
        },
        "id": "4_Ox_uh6DIJz",
        "outputId": "bc919e4f-3c31-4ef4-d378-907867b7d7a8"
      },
      "outputs": [
        {
          "data": {
            "text/html": [
              "<div>\n",
              "<style scoped>\n",
              "    .dataframe tbody tr th:only-of-type {\n",
              "        vertical-align: middle;\n",
              "    }\n",
              "\n",
              "    .dataframe tbody tr th {\n",
              "        vertical-align: top;\n",
              "    }\n",
              "\n",
              "    .dataframe thead th {\n",
              "        text-align: right;\n",
              "    }\n",
              "</style>\n",
              "<table border=\"1\" class=\"dataframe\">\n",
              "  <thead>\n",
              "    <tr style=\"text-align: right;\">\n",
              "      <th></th>\n",
              "      <th>ComplaintType</th>\n",
              "      <th>Descriptor</th>\n",
              "      <th>Agency</th>\n",
              "    </tr>\n",
              "  </thead>\n",
              "  <tbody>\n",
              "    <tr>\n",
              "      <th>0</th>\n",
              "      <td>Street Condition</td>\n",
              "      <td>Defective Hardware</td>\n",
              "      <td>DOT</td>\n",
              "    </tr>\n",
              "    <tr>\n",
              "      <th>1</th>\n",
              "      <td>Broken Muni Meter</td>\n",
              "      <td>No Receipt</td>\n",
              "      <td>DOT</td>\n",
              "    </tr>\n",
              "    <tr>\n",
              "      <th>2</th>\n",
              "      <td>Street Condition</td>\n",
              "      <td>Cave-in</td>\n",
              "      <td>DOT</td>\n",
              "    </tr>\n",
              "    <tr>\n",
              "      <th>3</th>\n",
              "      <td>Sidewalk Condition</td>\n",
              "      <td>Blocked - Construction</td>\n",
              "      <td>DOT</td>\n",
              "    </tr>\n",
              "    <tr>\n",
              "      <th>4</th>\n",
              "      <td>Broken Parking Meter</td>\n",
              "      <td>Coin or Card Did Not Register</td>\n",
              "      <td>DOT</td>\n",
              "    </tr>\n",
              "    <tr>\n",
              "      <th>5</th>\n",
              "      <td>Street Light Condition</td>\n",
              "      <td>Street Light Out</td>\n",
              "      <td>DOT</td>\n",
              "    </tr>\n",
              "    <tr>\n",
              "      <th>6</th>\n",
              "      <td>Street Condition</td>\n",
              "      <td>Rough, Pitted or Cracked Roads</td>\n",
              "      <td>DOT</td>\n",
              "    </tr>\n",
              "    <tr>\n",
              "      <th>7</th>\n",
              "      <td>Sidewalk Condition</td>\n",
              "      <td>Dumpster - Construction Waste</td>\n",
              "      <td>DOT</td>\n",
              "    </tr>\n",
              "    <tr>\n",
              "      <th>8</th>\n",
              "      <td>Street Condition</td>\n",
              "      <td>Blocked - Construction</td>\n",
              "      <td>DOT</td>\n",
              "    </tr>\n",
              "    <tr>\n",
              "      <th>9</th>\n",
              "      <td>Street Condition</td>\n",
              "      <td>Cave-in</td>\n",
              "      <td>DOT</td>\n",
              "    </tr>\n",
              "  </tbody>\n",
              "</table>\n",
              "</div>"
            ],
            "text/plain": [
              "            ComplaintType                      Descriptor Agency\n",
              "0        Street Condition              Defective Hardware    DOT\n",
              "1       Broken Muni Meter                      No Receipt    DOT\n",
              "2        Street Condition                         Cave-in    DOT\n",
              "3      Sidewalk Condition          Blocked - Construction    DOT\n",
              "4    Broken Parking Meter   Coin or Card Did Not Register    DOT\n",
              "5  Street Light Condition                Street Light Out    DOT\n",
              "6        Street Condition  Rough, Pitted or Cracked Roads    DOT\n",
              "7      Sidewalk Condition   Dumpster - Construction Waste    DOT\n",
              "8        Street Condition          Blocked - Construction    DOT\n",
              "9        Street Condition                         Cave-in    DOT"
            ]
          },
          "execution_count": 40,
          "metadata": {},
          "output_type": "execute_result"
        }
      ],
      "source": [
        "# we can also save the output as a DataFrame\n",
        "df = pd.read_sql_query('SELECT ComplaintType, Descriptor, Agency '\n",
        "                       'FROM data '\n",
        "                       'WHERE Agency = \"DOT\" '\n",
        "                       'LIMIT 10', connection)\n",
        "df"
      ]
    },
    {
      "cell_type": "markdown",
      "metadata": {
        "id": "lkuCrDiaDIJz"
      },
      "source": [
        "#### Filter multiple values in a column using IN"
      ]
    },
    {
      "cell_type": "code",
      "execution_count": 41,
      "metadata": {
        "colab": {
          "base_uri": "https://localhost:8080/",
          "height": 206
        },
        "id": "Nc2rgaGNDIJz",
        "outputId": "66949eaf-ea35-43d6-a781-51c5a9009d78"
      },
      "outputs": [
        {
          "data": {
            "text/html": [
              "<div>\n",
              "<style scoped>\n",
              "    .dataframe tbody tr th:only-of-type {\n",
              "        vertical-align: middle;\n",
              "    }\n",
              "\n",
              "    .dataframe tbody tr th {\n",
              "        vertical-align: top;\n",
              "    }\n",
              "\n",
              "    .dataframe thead th {\n",
              "        text-align: right;\n",
              "    }\n",
              "</style>\n",
              "<table border=\"1\" class=\"dataframe\">\n",
              "  <thead>\n",
              "    <tr style=\"text-align: right;\">\n",
              "      <th></th>\n",
              "      <th>ComplaintType</th>\n",
              "      <th>Descriptor</th>\n",
              "      <th>Agency</th>\n",
              "    </tr>\n",
              "  </thead>\n",
              "  <tbody>\n",
              "    <tr>\n",
              "      <th>0</th>\n",
              "      <td>Noise - Street/Sidewalk</td>\n",
              "      <td>Loud Music/Party</td>\n",
              "      <td>NYPD</td>\n",
              "    </tr>\n",
              "    <tr>\n",
              "      <th>1</th>\n",
              "      <td>Blocked Driveway</td>\n",
              "      <td>No Access</td>\n",
              "      <td>NYPD</td>\n",
              "    </tr>\n",
              "    <tr>\n",
              "      <th>2</th>\n",
              "      <td>Blocked Driveway</td>\n",
              "      <td>No Access</td>\n",
              "      <td>NYPD</td>\n",
              "    </tr>\n",
              "    <tr>\n",
              "      <th>3</th>\n",
              "      <td>Blocked Driveway</td>\n",
              "      <td>Partial Access</td>\n",
              "      <td>NYPD</td>\n",
              "    </tr>\n",
              "    <tr>\n",
              "      <th>4</th>\n",
              "      <td>Noise - Residential</td>\n",
              "      <td>Loud Music/Party</td>\n",
              "      <td>NYPD</td>\n",
              "    </tr>\n",
              "  </tbody>\n",
              "</table>\n",
              "</div>"
            ],
            "text/plain": [
              "             ComplaintType        Descriptor Agency\n",
              "0  Noise - Street/Sidewalk  Loud Music/Party   NYPD\n",
              "1         Blocked Driveway         No Access   NYPD\n",
              "2         Blocked Driveway         No Access   NYPD\n",
              "3         Blocked Driveway    Partial Access   NYPD\n",
              "4      Noise - Residential  Loud Music/Party   NYPD"
            ]
          },
          "execution_count": 41,
          "metadata": {},
          "output_type": "execute_result"
        }
      ],
      "source": [
        "df = pd.read_sql_query('SELECT ComplaintType, Descriptor, Agency '\n",
        "                       'FROM data '\n",
        "                       'WHERE Agency IN (\"NYPD\", \"DOB\")'\n",
        "                       'LIMIT 20', connection)\n",
        "df.head()"
      ]
    },
    {
      "cell_type": "markdown",
      "metadata": {
        "id": "Fb6ToSqcDIJz"
      },
      "source": [
        "#### Find Unique values using DISTINCT"
      ]
    },
    {
      "cell_type": "code",
      "execution_count": 42,
      "metadata": {
        "colab": {
          "base_uri": "https://localhost:8080/",
          "height": 614
        },
        "id": "vXDiCWnUDIJz",
        "outputId": "fa38c900-e641-4508-ac19-a829087bd131"
      },
      "outputs": [
        {
          "data": {
            "text/html": [
              "<div>\n",
              "<style scoped>\n",
              "    .dataframe tbody tr th:only-of-type {\n",
              "        vertical-align: middle;\n",
              "    }\n",
              "\n",
              "    .dataframe tbody tr th {\n",
              "        vertical-align: top;\n",
              "    }\n",
              "\n",
              "    .dataframe thead th {\n",
              "        text-align: right;\n",
              "    }\n",
              "</style>\n",
              "<table border=\"1\" class=\"dataframe\">\n",
              "  <thead>\n",
              "    <tr style=\"text-align: right;\">\n",
              "      <th></th>\n",
              "      <th>Agency</th>\n",
              "    </tr>\n",
              "  </thead>\n",
              "  <tbody>\n",
              "    <tr>\n",
              "      <th>0</th>\n",
              "      <td>DOF</td>\n",
              "    </tr>\n",
              "    <tr>\n",
              "      <th>1</th>\n",
              "      <td>DOT</td>\n",
              "    </tr>\n",
              "    <tr>\n",
              "      <th>2</th>\n",
              "      <td>DHS</td>\n",
              "    </tr>\n",
              "    <tr>\n",
              "      <th>3</th>\n",
              "      <td>DOHMH</td>\n",
              "    </tr>\n",
              "    <tr>\n",
              "      <th>4</th>\n",
              "      <td>NYPD</td>\n",
              "    </tr>\n",
              "    <tr>\n",
              "      <th>5</th>\n",
              "      <td>DPR</td>\n",
              "    </tr>\n",
              "    <tr>\n",
              "      <th>6</th>\n",
              "      <td>EDC</td>\n",
              "    </tr>\n",
              "    <tr>\n",
              "      <th>7</th>\n",
              "      <td>TLC</td>\n",
              "    </tr>\n",
              "    <tr>\n",
              "      <th>8</th>\n",
              "      <td>DOB</td>\n",
              "    </tr>\n",
              "    <tr>\n",
              "      <th>9</th>\n",
              "      <td>DCA</td>\n",
              "    </tr>\n",
              "    <tr>\n",
              "      <th>10</th>\n",
              "      <td>DOE</td>\n",
              "    </tr>\n",
              "    <tr>\n",
              "      <th>11</th>\n",
              "      <td>DFTA</td>\n",
              "    </tr>\n",
              "    <tr>\n",
              "      <th>12</th>\n",
              "      <td>FDNY</td>\n",
              "    </tr>\n",
              "    <tr>\n",
              "      <th>13</th>\n",
              "      <td>HPD</td>\n",
              "    </tr>\n",
              "    <tr>\n",
              "      <th>14</th>\n",
              "      <td>DEP</td>\n",
              "    </tr>\n",
              "    <tr>\n",
              "      <th>15</th>\n",
              "      <td>DSNY</td>\n",
              "    </tr>\n",
              "    <tr>\n",
              "      <th>16</th>\n",
              "      <td>DOITT</td>\n",
              "    </tr>\n",
              "    <tr>\n",
              "      <th>17</th>\n",
              "      <td>3-1-1</td>\n",
              "    </tr>\n",
              "  </tbody>\n",
              "</table>\n",
              "</div>"
            ],
            "text/plain": [
              "   Agency\n",
              "0     DOF\n",
              "1     DOT\n",
              "2     DHS\n",
              "3   DOHMH\n",
              "4    NYPD\n",
              "5     DPR\n",
              "6     EDC\n",
              "7     TLC\n",
              "8     DOB\n",
              "9     DCA\n",
              "10    DOE\n",
              "11   DFTA\n",
              "12   FDNY\n",
              "13    HPD\n",
              "14    DEP\n",
              "15   DSNY\n",
              "16  DOITT\n",
              "17  3-1-1"
            ]
          },
          "execution_count": 42,
          "metadata": {},
          "output_type": "execute_result"
        }
      ],
      "source": [
        "df = pd.read_sql_query('SELECT DISTINCT Agency FROM data', connection)\n",
        "df"
      ]
    },
    {
      "cell_type": "markdown",
      "metadata": {
        "id": "7lLHHEHqDIJz"
      },
      "source": [
        "####  Query values using Count(*) and GROUP BY and ORDER BY\n",
        "\n",
        "#### Which agency receives the most complaints?"
      ]
    },
    {
      "cell_type": "code",
      "execution_count": 43,
      "metadata": {
        "colab": {
          "base_uri": "https://localhost:8080/",
          "height": 614
        },
        "id": "wsew2S5ADIJz",
        "outputId": "25a45c8f-8813-40de-d76b-91173b33f47b"
      },
      "outputs": [
        {
          "data": {
            "text/html": [
              "<div>\n",
              "<style scoped>\n",
              "    .dataframe tbody tr th:only-of-type {\n",
              "        vertical-align: middle;\n",
              "    }\n",
              "\n",
              "    .dataframe tbody tr th {\n",
              "        vertical-align: top;\n",
              "    }\n",
              "\n",
              "    .dataframe thead th {\n",
              "        text-align: right;\n",
              "    }\n",
              "</style>\n",
              "<table border=\"1\" class=\"dataframe\">\n",
              "  <thead>\n",
              "    <tr style=\"text-align: right;\">\n",
              "      <th></th>\n",
              "      <th>Agency</th>\n",
              "      <th>num_complaints</th>\n",
              "    </tr>\n",
              "  </thead>\n",
              "  <tbody>\n",
              "    <tr>\n",
              "      <th>0</th>\n",
              "      <td>HPD</td>\n",
              "      <td>12676</td>\n",
              "    </tr>\n",
              "    <tr>\n",
              "      <th>1</th>\n",
              "      <td>DOT</td>\n",
              "      <td>6354</td>\n",
              "    </tr>\n",
              "    <tr>\n",
              "      <th>2</th>\n",
              "      <td>NYPD</td>\n",
              "      <td>5178</td>\n",
              "    </tr>\n",
              "    <tr>\n",
              "      <th>3</th>\n",
              "      <td>DEP</td>\n",
              "      <td>3380</td>\n",
              "    </tr>\n",
              "    <tr>\n",
              "      <th>4</th>\n",
              "      <td>DSNY</td>\n",
              "      <td>2334</td>\n",
              "    </tr>\n",
              "    <tr>\n",
              "      <th>5</th>\n",
              "      <td>DPR</td>\n",
              "      <td>2276</td>\n",
              "    </tr>\n",
              "    <tr>\n",
              "      <th>6</th>\n",
              "      <td>DOF</td>\n",
              "      <td>2238</td>\n",
              "    </tr>\n",
              "    <tr>\n",
              "      <th>7</th>\n",
              "      <td>DOB</td>\n",
              "      <td>2102</td>\n",
              "    </tr>\n",
              "    <tr>\n",
              "      <th>8</th>\n",
              "      <td>DOHMH</td>\n",
              "      <td>1278</td>\n",
              "    </tr>\n",
              "    <tr>\n",
              "      <th>9</th>\n",
              "      <td>DHS</td>\n",
              "      <td>762</td>\n",
              "    </tr>\n",
              "    <tr>\n",
              "      <th>10</th>\n",
              "      <td>DCA</td>\n",
              "      <td>546</td>\n",
              "    </tr>\n",
              "    <tr>\n",
              "      <th>11</th>\n",
              "      <td>TLC</td>\n",
              "      <td>482</td>\n",
              "    </tr>\n",
              "    <tr>\n",
              "      <th>12</th>\n",
              "      <td>DFTA</td>\n",
              "      <td>240</td>\n",
              "    </tr>\n",
              "    <tr>\n",
              "      <th>13</th>\n",
              "      <td>DOE</td>\n",
              "      <td>76</td>\n",
              "    </tr>\n",
              "    <tr>\n",
              "      <th>14</th>\n",
              "      <td>FDNY</td>\n",
              "      <td>38</td>\n",
              "    </tr>\n",
              "    <tr>\n",
              "      <th>15</th>\n",
              "      <td>EDC</td>\n",
              "      <td>20</td>\n",
              "    </tr>\n",
              "    <tr>\n",
              "      <th>16</th>\n",
              "      <td>3-1-1</td>\n",
              "      <td>12</td>\n",
              "    </tr>\n",
              "    <tr>\n",
              "      <th>17</th>\n",
              "      <td>DOITT</td>\n",
              "      <td>8</td>\n",
              "    </tr>\n",
              "  </tbody>\n",
              "</table>\n",
              "</div>"
            ],
            "text/plain": [
              "   Agency  num_complaints\n",
              "0     HPD           12676\n",
              "1     DOT            6354\n",
              "2    NYPD            5178\n",
              "3     DEP            3380\n",
              "4    DSNY            2334\n",
              "5     DPR            2276\n",
              "6     DOF            2238\n",
              "7     DOB            2102\n",
              "8   DOHMH            1278\n",
              "9     DHS             762\n",
              "10    DCA             546\n",
              "11    TLC             482\n",
              "12   DFTA             240\n",
              "13    DOE              76\n",
              "14   FDNY              38\n",
              "15    EDC              20\n",
              "16  3-1-1              12\n",
              "17  DOITT               8"
            ]
          },
          "execution_count": 43,
          "metadata": {},
          "output_type": "execute_result"
        }
      ],
      "source": [
        "sql_command = '''\n",
        "SELECT Agency, Count(*)\n",
        "AS num_complaints\n",
        "FROM data\n",
        "GROUP BY Agency\n",
        "ORDER BY num_complaints DESC'''\n",
        "\n",
        "pd.read_sql_query(sql_command, connection)"
      ]
    },
    {
      "cell_type": "markdown",
      "metadata": {
        "id": "gPM1W4nCDIJ0"
      },
      "source": [
        "#### What is the most common complaint type?"
      ]
    },
    {
      "cell_type": "code",
      "execution_count": 44,
      "metadata": {
        "colab": {
          "base_uri": "https://localhost:8080/",
          "height": 206
        },
        "id": "aZPSBTNzDIJ0",
        "outputId": "25c31977-9656-40e7-8913-8ef6a98ea211"
      },
      "outputs": [
        {
          "data": {
            "text/html": [
              "<div>\n",
              "<style scoped>\n",
              "    .dataframe tbody tr th:only-of-type {\n",
              "        vertical-align: middle;\n",
              "    }\n",
              "\n",
              "    .dataframe tbody tr th {\n",
              "        vertical-align: top;\n",
              "    }\n",
              "\n",
              "    .dataframe thead th {\n",
              "        text-align: right;\n",
              "    }\n",
              "</style>\n",
              "<table border=\"1\" class=\"dataframe\">\n",
              "  <thead>\n",
              "    <tr style=\"text-align: right;\">\n",
              "      <th></th>\n",
              "      <th>ComplaintType</th>\n",
              "      <th>num_complaints</th>\n",
              "    </tr>\n",
              "  </thead>\n",
              "  <tbody>\n",
              "    <tr>\n",
              "      <th>0</th>\n",
              "      <td>GENERAL CONSTRUCTION</td>\n",
              "      <td>3400</td>\n",
              "    </tr>\n",
              "    <tr>\n",
              "      <th>1</th>\n",
              "      <td>Street Light Condition</td>\n",
              "      <td>2692</td>\n",
              "    </tr>\n",
              "    <tr>\n",
              "      <th>2</th>\n",
              "      <td>PLUMBING</td>\n",
              "      <td>2524</td>\n",
              "    </tr>\n",
              "    <tr>\n",
              "      <th>3</th>\n",
              "      <td>PAINT - PLASTER</td>\n",
              "      <td>2378</td>\n",
              "    </tr>\n",
              "    <tr>\n",
              "      <th>4</th>\n",
              "      <td>NONCONST</td>\n",
              "      <td>2240</td>\n",
              "    </tr>\n",
              "  </tbody>\n",
              "</table>\n",
              "</div>"
            ],
            "text/plain": [
              "            ComplaintType  num_complaints\n",
              "0    GENERAL CONSTRUCTION            3400\n",
              "1  Street Light Condition            2692\n",
              "2                PLUMBING            2524\n",
              "3         PAINT - PLASTER            2378\n",
              "4                NONCONST            2240"
            ]
          },
          "execution_count": 44,
          "metadata": {},
          "output_type": "execute_result"
        }
      ],
      "source": [
        "df = pd.read_sql_query('SELECT ComplaintType, Count(*) AS num_complaints '\n",
        "                       'FROM data '\n",
        "                       'GROUP BY ComplaintType '\n",
        "                       'ORDER BY num_complaints DESC', connection)\n",
        "\n",
        "df.head()"
      ]
    },
    {
      "cell_type": "markdown",
      "metadata": {
        "id": "Qr9ZGJnqDIJ0"
      },
      "source": [
        "#### Number of complaints per city for the top 20 cities with most complaints"
      ]
    },
    {
      "cell_type": "code",
      "execution_count": 45,
      "metadata": {
        "colab": {
          "base_uri": "https://localhost:8080/",
          "height": 677
        },
        "id": "Pz0gEDUqDIJ0",
        "outputId": "71456943-9245-4e8a-d859-ec9314f0d6fa"
      },
      "outputs": [
        {
          "data": {
            "text/html": [
              "<div>\n",
              "<style scoped>\n",
              "    .dataframe tbody tr th:only-of-type {\n",
              "        vertical-align: middle;\n",
              "    }\n",
              "\n",
              "    .dataframe tbody tr th {\n",
              "        vertical-align: top;\n",
              "    }\n",
              "\n",
              "    .dataframe thead th {\n",
              "        text-align: right;\n",
              "    }\n",
              "</style>\n",
              "<table border=\"1\" class=\"dataframe\">\n",
              "  <thead>\n",
              "    <tr style=\"text-align: right;\">\n",
              "      <th></th>\n",
              "      <th>City</th>\n",
              "      <th>num_complaints</th>\n",
              "    </tr>\n",
              "  </thead>\n",
              "  <tbody>\n",
              "    <tr>\n",
              "      <th>0</th>\n",
              "      <td>BROOKLYN</td>\n",
              "      <td>13070</td>\n",
              "    </tr>\n",
              "    <tr>\n",
              "      <th>1</th>\n",
              "      <td>BRONX</td>\n",
              "      <td>7172</td>\n",
              "    </tr>\n",
              "    <tr>\n",
              "      <th>2</th>\n",
              "      <td>NEW YORK</td>\n",
              "      <td>6436</td>\n",
              "    </tr>\n",
              "    <tr>\n",
              "      <th>3</th>\n",
              "      <td>STATEN ISLAND</td>\n",
              "      <td>2226</td>\n",
              "    </tr>\n",
              "    <tr>\n",
              "      <th>4</th>\n",
              "      <td>None</td>\n",
              "      <td>2172</td>\n",
              "    </tr>\n",
              "    <tr>\n",
              "      <th>5</th>\n",
              "      <td>JAMAICA</td>\n",
              "      <td>1148</td>\n",
              "    </tr>\n",
              "    <tr>\n",
              "      <th>6</th>\n",
              "      <td>FLUSHING</td>\n",
              "      <td>750</td>\n",
              "    </tr>\n",
              "    <tr>\n",
              "      <th>7</th>\n",
              "      <td>ASTORIA</td>\n",
              "      <td>592</td>\n",
              "    </tr>\n",
              "    <tr>\n",
              "      <th>8</th>\n",
              "      <td>RIDGEWOOD</td>\n",
              "      <td>470</td>\n",
              "    </tr>\n",
              "    <tr>\n",
              "      <th>9</th>\n",
              "      <td>CORONA</td>\n",
              "      <td>340</td>\n",
              "    </tr>\n",
              "    <tr>\n",
              "      <th>10</th>\n",
              "      <td>OZONE PARK</td>\n",
              "      <td>292</td>\n",
              "    </tr>\n",
              "    <tr>\n",
              "      <th>11</th>\n",
              "      <td>QUEENS VILLAGE</td>\n",
              "      <td>286</td>\n",
              "    </tr>\n",
              "    <tr>\n",
              "      <th>12</th>\n",
              "      <td>FAR ROCKAWAY</td>\n",
              "      <td>276</td>\n",
              "    </tr>\n",
              "    <tr>\n",
              "      <th>13</th>\n",
              "      <td>WOODSIDE</td>\n",
              "      <td>258</td>\n",
              "    </tr>\n",
              "    <tr>\n",
              "      <th>14</th>\n",
              "      <td>FOREST HILLS</td>\n",
              "      <td>226</td>\n",
              "    </tr>\n",
              "    <tr>\n",
              "      <th>15</th>\n",
              "      <td>SOUTH RICHMOND HILL</td>\n",
              "      <td>224</td>\n",
              "    </tr>\n",
              "    <tr>\n",
              "      <th>16</th>\n",
              "      <td>JACKSON HEIGHTS</td>\n",
              "      <td>224</td>\n",
              "    </tr>\n",
              "    <tr>\n",
              "      <th>17</th>\n",
              "      <td>ELMHURST</td>\n",
              "      <td>222</td>\n",
              "    </tr>\n",
              "    <tr>\n",
              "      <th>18</th>\n",
              "      <td>BAYSIDE</td>\n",
              "      <td>220</td>\n",
              "    </tr>\n",
              "    <tr>\n",
              "      <th>19</th>\n",
              "      <td>FRESH MEADOWS</td>\n",
              "      <td>206</td>\n",
              "    </tr>\n",
              "  </tbody>\n",
              "</table>\n",
              "</div>"
            ],
            "text/plain": [
              "                   City  num_complaints\n",
              "0              BROOKLYN           13070\n",
              "1                 BRONX            7172\n",
              "2              NEW YORK            6436\n",
              "3         STATEN ISLAND            2226\n",
              "4                  None            2172\n",
              "5               JAMAICA            1148\n",
              "6              FLUSHING             750\n",
              "7               ASTORIA             592\n",
              "8             RIDGEWOOD             470\n",
              "9                CORONA             340\n",
              "10           OZONE PARK             292\n",
              "11       QUEENS VILLAGE             286\n",
              "12         FAR ROCKAWAY             276\n",
              "13             WOODSIDE             258\n",
              "14         FOREST HILLS             226\n",
              "15  SOUTH RICHMOND HILL             224\n",
              "16      JACKSON HEIGHTS             224\n",
              "17             ELMHURST             222\n",
              "18              BAYSIDE             220\n",
              "19        FRESH MEADOWS             206"
            ]
          },
          "execution_count": 45,
          "metadata": {},
          "output_type": "execute_result"
        }
      ],
      "source": [
        "sql_command = '''\n",
        "SELECT City, Count(*) AS num_complaints\n",
        "FROM Data\n",
        "GROUP BY City\n",
        "ORDER BY num_complaints DESC\n",
        "LIMIT 20\n",
        "'''\n",
        "\n",
        "df = pd.read_sql_query(sql_command, connection)\n",
        "df"
      ]
    },
    {
      "cell_type": "markdown",
      "metadata": {
        "id": "-P8bK-5rDIJ0"
      },
      "source": [
        "#### Perform Case Insensitive Queries"
      ]
    },
    {
      "cell_type": "code",
      "execution_count": 46,
      "metadata": {
        "colab": {
          "base_uri": "https://localhost:8080/",
          "height": 677
        },
        "id": "CB-8U_2hDIJ0",
        "outputId": "7061d606-21b6-45c1-f3df-dd893ab85a3c"
      },
      "outputs": [
        {
          "data": {
            "text/html": [
              "<div>\n",
              "<style scoped>\n",
              "    .dataframe tbody tr th:only-of-type {\n",
              "        vertical-align: middle;\n",
              "    }\n",
              "\n",
              "    .dataframe tbody tr th {\n",
              "        vertical-align: top;\n",
              "    }\n",
              "\n",
              "    .dataframe thead th {\n",
              "        text-align: right;\n",
              "    }\n",
              "</style>\n",
              "<table border=\"1\" class=\"dataframe\">\n",
              "  <thead>\n",
              "    <tr style=\"text-align: right;\">\n",
              "      <th></th>\n",
              "      <th>City</th>\n",
              "      <th>num_complaints</th>\n",
              "    </tr>\n",
              "  </thead>\n",
              "  <tbody>\n",
              "    <tr>\n",
              "      <th>0</th>\n",
              "      <td>BROOKLYN</td>\n",
              "      <td>13070</td>\n",
              "    </tr>\n",
              "    <tr>\n",
              "      <th>1</th>\n",
              "      <td>BRONX</td>\n",
              "      <td>7172</td>\n",
              "    </tr>\n",
              "    <tr>\n",
              "      <th>2</th>\n",
              "      <td>NEW YORK</td>\n",
              "      <td>6436</td>\n",
              "    </tr>\n",
              "    <tr>\n",
              "      <th>3</th>\n",
              "      <td>STATEN ISLAND</td>\n",
              "      <td>2226</td>\n",
              "    </tr>\n",
              "    <tr>\n",
              "      <th>4</th>\n",
              "      <td>None</td>\n",
              "      <td>2172</td>\n",
              "    </tr>\n",
              "    <tr>\n",
              "      <th>5</th>\n",
              "      <td>JAMAICA</td>\n",
              "      <td>1156</td>\n",
              "    </tr>\n",
              "    <tr>\n",
              "      <th>6</th>\n",
              "      <td>FLUSHING</td>\n",
              "      <td>764</td>\n",
              "    </tr>\n",
              "    <tr>\n",
              "      <th>7</th>\n",
              "      <td>ASTORIA</td>\n",
              "      <td>600</td>\n",
              "    </tr>\n",
              "    <tr>\n",
              "      <th>8</th>\n",
              "      <td>RIDGEWOOD</td>\n",
              "      <td>474</td>\n",
              "    </tr>\n",
              "    <tr>\n",
              "      <th>9</th>\n",
              "      <td>CORONA</td>\n",
              "      <td>344</td>\n",
              "    </tr>\n",
              "    <tr>\n",
              "      <th>10</th>\n",
              "      <td>OZONE PARK</td>\n",
              "      <td>294</td>\n",
              "    </tr>\n",
              "    <tr>\n",
              "      <th>11</th>\n",
              "      <td>QUEENS VILLAGE</td>\n",
              "      <td>288</td>\n",
              "    </tr>\n",
              "    <tr>\n",
              "      <th>12</th>\n",
              "      <td>FAR ROCKAWAY</td>\n",
              "      <td>278</td>\n",
              "    </tr>\n",
              "    <tr>\n",
              "      <th>13</th>\n",
              "      <td>WOODSIDE</td>\n",
              "      <td>258</td>\n",
              "    </tr>\n",
              "    <tr>\n",
              "      <th>14</th>\n",
              "      <td>Elmhurst</td>\n",
              "      <td>230</td>\n",
              "    </tr>\n",
              "    <tr>\n",
              "      <th>15</th>\n",
              "      <td>SOUTH RICHMOND HILL</td>\n",
              "      <td>228</td>\n",
              "    </tr>\n",
              "    <tr>\n",
              "      <th>16</th>\n",
              "      <td>JACKSON HEIGHTS</td>\n",
              "      <td>226</td>\n",
              "    </tr>\n",
              "    <tr>\n",
              "      <th>17</th>\n",
              "      <td>FOREST HILLS</td>\n",
              "      <td>226</td>\n",
              "    </tr>\n",
              "    <tr>\n",
              "      <th>18</th>\n",
              "      <td>BAYSIDE</td>\n",
              "      <td>220</td>\n",
              "    </tr>\n",
              "    <tr>\n",
              "      <th>19</th>\n",
              "      <td>FRESH MEADOWS</td>\n",
              "      <td>208</td>\n",
              "    </tr>\n",
              "  </tbody>\n",
              "</table>\n",
              "</div>"
            ],
            "text/plain": [
              "                   City  num_complaints\n",
              "0              BROOKLYN           13070\n",
              "1                 BRONX            7172\n",
              "2              NEW YORK            6436\n",
              "3         STATEN ISLAND            2226\n",
              "4                  None            2172\n",
              "5               JAMAICA            1156\n",
              "6              FLUSHING             764\n",
              "7               ASTORIA             600\n",
              "8             RIDGEWOOD             474\n",
              "9                CORONA             344\n",
              "10           OZONE PARK             294\n",
              "11       QUEENS VILLAGE             288\n",
              "12         FAR ROCKAWAY             278\n",
              "13             WOODSIDE             258\n",
              "14             Elmhurst             230\n",
              "15  SOUTH RICHMOND HILL             228\n",
              "16      JACKSON HEIGHTS             226\n",
              "17         FOREST HILLS             226\n",
              "18              BAYSIDE             220\n",
              "19        FRESH MEADOWS             208"
            ]
          },
          "execution_count": 46,
          "metadata": {},
          "output_type": "execute_result"
        }
      ],
      "source": [
        "sql_command = '''\n",
        "SELECT City, Count(*) AS num_complaints\n",
        "FROM Data\n",
        "GROUP BY City COLLATE NOCASE\n",
        "ORDER BY num_complaints DESC\n",
        "LIMIT 20\n",
        "'''\n",
        "\n",
        "df = pd.read_sql_query(sql_command, connection)\n",
        "df # Jamaica, Flushing etc have more complaints now"
      ]
    },
    {
      "cell_type": "markdown",
      "metadata": {
        "id": "DGp0PONrDIJ1"
      },
      "source": [
        "# ORM: Object Relational Mapper\n",
        "\n",
        "[Documentation](https://docs.sqlalchemy.org/en/13/index.html)"
      ]
    },
    {
      "cell_type": "markdown",
      "metadata": {
        "id": "hCpc3C9UDIJ1"
      },
      "source": [
        "## Use SQLAlchemy to define tables as classes\n",
        "### Make use of ORM (Object Relational Mapper)\n",
        "Great for large scale systems"
      ]
    },
    {
      "cell_type": "code",
      "execution_count": 50,
      "metadata": {},
      "outputs": [
        {
          "name": "stdout",
          "output_type": "stream",
          "text": [
            "Defaulting to user installation because normal site-packages is not writeable\n",
            "Collecting sqlalchemy\n",
            "  Downloading SQLAlchemy-2.0.21-cp310-cp310-manylinux_2_17_x86_64.manylinux2014_x86_64.whl (3.0 MB)\n",
            "\u001b[2K     \u001b[90m━━━━━━━━━━━━━━━━━━━━━━━━━━━━━━━━━━━━━━━━\u001b[0m \u001b[32m3.0/3.0 MB\u001b[0m \u001b[31m2.2 MB/s\u001b[0m eta \u001b[36m0:00:00\u001b[0m00:01\u001b[0m00:01\u001b[0m0m\n",
            "\u001b[?25hCollecting greenlet!=0.4.17\n",
            "  Downloading greenlet-3.0.0-cp310-cp310-manylinux_2_24_x86_64.manylinux_2_28_x86_64.whl (612 kB)\n",
            "\u001b[2K     \u001b[90m━━━━━━━━━━━━━━━━━━━━━━━━━━━━━━━━━━━━━━━\u001b[0m \u001b[32m612.9/612.9 KB\u001b[0m \u001b[31m5.8 MB/s\u001b[0m eta \u001b[36m0:00:00\u001b[0ma \u001b[36m0:00:01\u001b[0m\n",
            "\u001b[?25hCollecting typing-extensions>=4.2.0\n",
            "  Downloading typing_extensions-4.8.0-py3-none-any.whl (31 kB)\n",
            "Installing collected packages: typing-extensions, greenlet, sqlalchemy\n",
            "Successfully installed greenlet-3.0.0 sqlalchemy-2.0.21 typing-extensions-4.8.0\n"
          ]
        }
      ],
      "source": [
        "!pip install sqlalchemy"
      ]
    },
    {
      "cell_type": "code",
      "execution_count": 51,
      "metadata": {
        "colab": {
          "base_uri": "https://localhost:8080/"
        },
        "id": "a10aKUFBDIJ1",
        "outputId": "9959d83f-4e52-4a28-b038-bc105c90fc73"
      },
      "outputs": [
        {
          "name": "stderr",
          "output_type": "stream",
          "text": [
            "/tmp/ipykernel_31963/403329293.py:8: MovedIn20Warning: The ``declarative_base()`` function is now available as sqlalchemy.orm.declarative_base(). (deprecated since: 2.0) (Background on SQLAlchemy 2.0 at: https://sqlalche.me/e/b8d9)\n",
            "  Base = declarative_base()\n"
          ]
        }
      ],
      "source": [
        "import os\n",
        "import sys\n",
        "from sqlalchemy import Column, ForeignKey, Integer, String\n",
        "from sqlalchemy.ext.declarative import declarative_base\n",
        "from sqlalchemy.orm import relationship\n",
        "from sqlalchemy import create_engine\n",
        "\n",
        "Base = declarative_base()\n",
        "\n",
        "class Person(Base):\n",
        "    __tablename__ = 'person'\n",
        "    # Here we define columns for the table person\n",
        "    # Notice that each column is also a normal Python instance attribute.\n",
        "    id = Column(Integer, primary_key=True)\n",
        "    name = Column(String(250), nullable=False)\n",
        "\n",
        "class Address(Base):\n",
        "    __tablename__ = 'address'\n",
        "    # Here we define columns for the table address.\n",
        "    # Notice that each column is also a normal Python instance attribute.\n",
        "    id = Column(Integer, primary_key=True)\n",
        "    street_name = Column(String(250))\n",
        "    street_number = Column(String(250))\n",
        "    post_code = Column(String(250), nullable=False)\n",
        "    person_id = Column(Integer, ForeignKey('person.id'))\n",
        "    person = relationship(Person)\n",
        "\n",
        "\n",
        "# Create an engine that stores data in the local directory's\n",
        "# sqlalchemy_example.db file.\n",
        "engine = create_engine('sqlite:///sqlalchemy_example.db')\n",
        "\n",
        "# Create all tables in the engine. This is equivalent to \"Create Table\"\n",
        "# statements in raw SQL.\n",
        "Base.metadata.create_all(engine)"
      ]
    },
    {
      "cell_type": "code",
      "execution_count": 52,
      "metadata": {
        "id": "LvnjNLZmDIJ1"
      },
      "outputs": [],
      "source": [
        "from sqlalchemy.orm import sessionmaker\n",
        "\n",
        "# Bind the engine to the metadata of the Base class so that the\n",
        "# declaratives can be accessed through a DBSession instance\n",
        "Base.metadata.bind = engine\n",
        "\n",
        "DBSession = sessionmaker(bind=engine)\n",
        "# A DBSession() instance establishes all conversations with the database\n",
        "# and represents a \"staging zone\" for all the objects loaded into the\n",
        "# database session object. Any change made against the objects in the\n",
        "# session won't be persisted into the database until you call\n",
        "# session.commit(). If you're not happy about the changes, you can\n",
        "# revert all of them back to the last commit by calling\n",
        "# session.rollback()\n",
        "session = DBSession()\n",
        "\n",
        "# Insert a Person in the person table\n",
        "new_person = Person(name='new person')\n",
        "session.add(new_person)\n",
        "session.commit()\n",
        "\n",
        "# Insert an Address in the address table\n",
        "new_address = Address(post_code='00000', person=new_person,\n",
        "                     street_name='28th st.')\n",
        "session.add(new_address)\n",
        "session.commit()"
      ]
    },
    {
      "cell_type": "code",
      "execution_count": 53,
      "metadata": {
        "colab": {
          "base_uri": "https://localhost:8080/",
          "height": 70
        },
        "id": "uKpHEqFlDIJ1",
        "outputId": "976dbc24-58f7-4958-997d-47b25df415fb"
      },
      "outputs": [
        {
          "name": "stdout",
          "output_type": "stream",
          "text": [
            "28th st.\n",
            "new person\n"
          ]
        },
        {
          "data": {
            "text/plain": [
              "'00000'"
            ]
          },
          "execution_count": 53,
          "metadata": {},
          "output_type": "execute_result"
        }
      ],
      "source": [
        "# Make a query to find all Persons in the database\n",
        "address = session.query(Address).all()\n",
        "for a in address:\n",
        "    print(a.street_name)\n",
        "\n",
        "# Return the first Person from all Persons in the database\n",
        "person = session.query(Person).first()\n",
        "print(person.name)\n",
        "\n",
        "# Find all Address whose person field is pointing to the person object\n",
        "session.query(Address).filter(Address.person == person).all()\n",
        "\n",
        "# Retrieve one Address whose person field is point to the person object\n",
        "session.query(Address).filter(Address.person == person).one()\n",
        "\n",
        "address = session.query(Address).filter(Address.person == person).one()\n",
        "address.post_code"
      ]
    },
    {
      "cell_type": "code",
      "execution_count": null,
      "metadata": {
        "id": "kxl-YLHkjWbC"
      },
      "outputs": [],
      "source": []
    }
  ],
  "metadata": {
    "anaconda-cloud": {},
    "colab": {
      "provenance": []
    },
    "kernelspec": {
      "display_name": "Python 3 (ipykernel)",
      "language": "python",
      "name": "python3"
    },
    "language_info": {
      "codemirror_mode": {
        "name": "ipython",
        "version": 3
      },
      "file_extension": ".py",
      "mimetype": "text/x-python",
      "name": "python",
      "nbconvert_exporter": "python",
      "pygments_lexer": "ipython3",
      "version": "3.10.12"
    }
  },
  "nbformat": 4,
  "nbformat_minor": 0
}
